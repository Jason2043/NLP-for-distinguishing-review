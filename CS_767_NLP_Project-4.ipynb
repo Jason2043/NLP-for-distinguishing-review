{
  "nbformat": 4,
  "nbformat_minor": 0,
  "metadata": {
    "colab": {
      "provenance": [],
      "gpuType": "V100",
      "machine_shape": "hm"
    },
    "kernelspec": {
      "name": "python3",
      "display_name": "Python 3"
    },
    "language_info": {
      "name": "python"
    },
    "accelerator": "GPU"
  },
  "cells": [
    {
      "cell_type": "markdown",
      "source": [
        "# Input Layer"
      ],
      "metadata": {
        "id": "nQ8S5wWpDzc0"
      }
    },
    {
      "cell_type": "code",
      "execution_count": 1,
      "metadata": {
        "id": "U7a4T2APgL3s",
        "colab": {
          "base_uri": "https://localhost:8080/",
          "height": 589
        },
        "outputId": "e1159265-650b-40d8-cadc-7374b7ee73e5"
      },
      "outputs": [
        {
          "output_type": "execute_result",
          "data": {
            "text/plain": [
              "                 published_date published_platform  rating    type  \\\n",
              "0     2024-03-12T14:41:14-04:00            Desktop       3  review   \n",
              "1     2024-03-11T19:39:13-04:00            Desktop       5  review   \n",
              "2     2024-03-11T12:20:23-04:00            Desktop       1  review   \n",
              "3     2024-03-11T07:12:27-04:00            Desktop       5  review   \n",
              "4     2024-03-10T05:34:18-04:00            Desktop       2  review   \n",
              "...                         ...                ...     ...     ...   \n",
              "9995  2018-08-06T03:48:21-04:00            Desktop       5  review   \n",
              "9996  2018-08-05T22:50:29-04:00             Mobile       5  review   \n",
              "9997  2018-08-05T22:47:06-04:00            Desktop       5  review   \n",
              "9998  2018-08-05T20:32:03-04:00            Desktop       4  review   \n",
              "9999  2018-08-05T20:19:51-04:00            Desktop       4  review   \n",
              "\n",
              "                                                   text  \\\n",
              "0     We used this airline to go from Singapore to L...   \n",
              "1     The service on Singapore Airlines Suites Class...   \n",
              "2     Booked, paid and received email confirmation f...   \n",
              "3     Best airline in the world, seats, food, servic...   \n",
              "4     Premium Economy Seating on Singapore Airlines ...   \n",
              "...                                                 ...   \n",
              "9995  First part done with Singapore Airlines - acce...   \n",
              "9996  And again a great Flight with Singapore Air. G...   \n",
              "9997  We flew business class from Frankfurt, via Sin...   \n",
              "9998  As always, the A380 aircraft was spotlessly pr...   \n",
              "9999  As always, Singapore Airlines has done it agai...   \n",
              "\n",
              "                                                  title  helpful_votes  \n",
              "0                                                    Ok              0  \n",
              "1     The service in Suites Class makes one feel lik...              0  \n",
              "2                            Don’t give them your money              0  \n",
              "3                             Best Airline in the World              0  \n",
              "4     Premium Economy Seating on Singapore Airlines ...              0  \n",
              "...                                                 ...            ...  \n",
              "9995  Flew to NZ 1st half Singapore Airlines, 2nd ha...              1  \n",
              "9996                                       Best Airline              1  \n",
              "9997               Superb service on Singapore Airlines              1  \n",
              "9998  A Comfortable Fiight Spoiled by lack of adequa...              2  \n",
              "9999                           Delivered as expected :)              3  \n",
              "\n",
              "[10000 rows x 7 columns]"
            ],
            "text/html": [
              "\n",
              "  <div id=\"df-1e3ae2f8-3768-47e0-ac49-0ec142329882\" class=\"colab-df-container\">\n",
              "    <div>\n",
              "<style scoped>\n",
              "    .dataframe tbody tr th:only-of-type {\n",
              "        vertical-align: middle;\n",
              "    }\n",
              "\n",
              "    .dataframe tbody tr th {\n",
              "        vertical-align: top;\n",
              "    }\n",
              "\n",
              "    .dataframe thead th {\n",
              "        text-align: right;\n",
              "    }\n",
              "</style>\n",
              "<table border=\"1\" class=\"dataframe\">\n",
              "  <thead>\n",
              "    <tr style=\"text-align: right;\">\n",
              "      <th></th>\n",
              "      <th>published_date</th>\n",
              "      <th>published_platform</th>\n",
              "      <th>rating</th>\n",
              "      <th>type</th>\n",
              "      <th>text</th>\n",
              "      <th>title</th>\n",
              "      <th>helpful_votes</th>\n",
              "    </tr>\n",
              "  </thead>\n",
              "  <tbody>\n",
              "    <tr>\n",
              "      <th>0</th>\n",
              "      <td>2024-03-12T14:41:14-04:00</td>\n",
              "      <td>Desktop</td>\n",
              "      <td>3</td>\n",
              "      <td>review</td>\n",
              "      <td>We used this airline to go from Singapore to L...</td>\n",
              "      <td>Ok</td>\n",
              "      <td>0</td>\n",
              "    </tr>\n",
              "    <tr>\n",
              "      <th>1</th>\n",
              "      <td>2024-03-11T19:39:13-04:00</td>\n",
              "      <td>Desktop</td>\n",
              "      <td>5</td>\n",
              "      <td>review</td>\n",
              "      <td>The service on Singapore Airlines Suites Class...</td>\n",
              "      <td>The service in Suites Class makes one feel lik...</td>\n",
              "      <td>0</td>\n",
              "    </tr>\n",
              "    <tr>\n",
              "      <th>2</th>\n",
              "      <td>2024-03-11T12:20:23-04:00</td>\n",
              "      <td>Desktop</td>\n",
              "      <td>1</td>\n",
              "      <td>review</td>\n",
              "      <td>Booked, paid and received email confirmation f...</td>\n",
              "      <td>Don’t give them your money</td>\n",
              "      <td>0</td>\n",
              "    </tr>\n",
              "    <tr>\n",
              "      <th>3</th>\n",
              "      <td>2024-03-11T07:12:27-04:00</td>\n",
              "      <td>Desktop</td>\n",
              "      <td>5</td>\n",
              "      <td>review</td>\n",
              "      <td>Best airline in the world, seats, food, servic...</td>\n",
              "      <td>Best Airline in the World</td>\n",
              "      <td>0</td>\n",
              "    </tr>\n",
              "    <tr>\n",
              "      <th>4</th>\n",
              "      <td>2024-03-10T05:34:18-04:00</td>\n",
              "      <td>Desktop</td>\n",
              "      <td>2</td>\n",
              "      <td>review</td>\n",
              "      <td>Premium Economy Seating on Singapore Airlines ...</td>\n",
              "      <td>Premium Economy Seating on Singapore Airlines ...</td>\n",
              "      <td>0</td>\n",
              "    </tr>\n",
              "    <tr>\n",
              "      <th>...</th>\n",
              "      <td>...</td>\n",
              "      <td>...</td>\n",
              "      <td>...</td>\n",
              "      <td>...</td>\n",
              "      <td>...</td>\n",
              "      <td>...</td>\n",
              "      <td>...</td>\n",
              "    </tr>\n",
              "    <tr>\n",
              "      <th>9995</th>\n",
              "      <td>2018-08-06T03:48:21-04:00</td>\n",
              "      <td>Desktop</td>\n",
              "      <td>5</td>\n",
              "      <td>review</td>\n",
              "      <td>First part done with Singapore Airlines - acce...</td>\n",
              "      <td>Flew to NZ 1st half Singapore Airlines, 2nd ha...</td>\n",
              "      <td>1</td>\n",
              "    </tr>\n",
              "    <tr>\n",
              "      <th>9996</th>\n",
              "      <td>2018-08-05T22:50:29-04:00</td>\n",
              "      <td>Mobile</td>\n",
              "      <td>5</td>\n",
              "      <td>review</td>\n",
              "      <td>And again a great Flight with Singapore Air. G...</td>\n",
              "      <td>Best Airline</td>\n",
              "      <td>1</td>\n",
              "    </tr>\n",
              "    <tr>\n",
              "      <th>9997</th>\n",
              "      <td>2018-08-05T22:47:06-04:00</td>\n",
              "      <td>Desktop</td>\n",
              "      <td>5</td>\n",
              "      <td>review</td>\n",
              "      <td>We flew business class from Frankfurt, via Sin...</td>\n",
              "      <td>Superb service on Singapore Airlines</td>\n",
              "      <td>1</td>\n",
              "    </tr>\n",
              "    <tr>\n",
              "      <th>9998</th>\n",
              "      <td>2018-08-05T20:32:03-04:00</td>\n",
              "      <td>Desktop</td>\n",
              "      <td>4</td>\n",
              "      <td>review</td>\n",
              "      <td>As always, the A380 aircraft was spotlessly pr...</td>\n",
              "      <td>A Comfortable Fiight Spoiled by lack of adequa...</td>\n",
              "      <td>2</td>\n",
              "    </tr>\n",
              "    <tr>\n",
              "      <th>9999</th>\n",
              "      <td>2018-08-05T20:19:51-04:00</td>\n",
              "      <td>Desktop</td>\n",
              "      <td>4</td>\n",
              "      <td>review</td>\n",
              "      <td>As always, Singapore Airlines has done it agai...</td>\n",
              "      <td>Delivered as expected :)</td>\n",
              "      <td>3</td>\n",
              "    </tr>\n",
              "  </tbody>\n",
              "</table>\n",
              "<p>10000 rows × 7 columns</p>\n",
              "</div>\n",
              "    <div class=\"colab-df-buttons\">\n",
              "\n",
              "  <div class=\"colab-df-container\">\n",
              "    <button class=\"colab-df-convert\" onclick=\"convertToInteractive('df-1e3ae2f8-3768-47e0-ac49-0ec142329882')\"\n",
              "            title=\"Convert this dataframe to an interactive table.\"\n",
              "            style=\"display:none;\">\n",
              "\n",
              "  <svg xmlns=\"http://www.w3.org/2000/svg\" height=\"24px\" viewBox=\"0 -960 960 960\">\n",
              "    <path d=\"M120-120v-720h720v720H120Zm60-500h600v-160H180v160Zm220 220h160v-160H400v160Zm0 220h160v-160H400v160ZM180-400h160v-160H180v160Zm440 0h160v-160H620v160ZM180-180h160v-160H180v160Zm440 0h160v-160H620v160Z\"/>\n",
              "  </svg>\n",
              "    </button>\n",
              "\n",
              "  <style>\n",
              "    .colab-df-container {\n",
              "      display:flex;\n",
              "      gap: 12px;\n",
              "    }\n",
              "\n",
              "    .colab-df-convert {\n",
              "      background-color: #E8F0FE;\n",
              "      border: none;\n",
              "      border-radius: 50%;\n",
              "      cursor: pointer;\n",
              "      display: none;\n",
              "      fill: #1967D2;\n",
              "      height: 32px;\n",
              "      padding: 0 0 0 0;\n",
              "      width: 32px;\n",
              "    }\n",
              "\n",
              "    .colab-df-convert:hover {\n",
              "      background-color: #E2EBFA;\n",
              "      box-shadow: 0px 1px 2px rgba(60, 64, 67, 0.3), 0px 1px 3px 1px rgba(60, 64, 67, 0.15);\n",
              "      fill: #174EA6;\n",
              "    }\n",
              "\n",
              "    .colab-df-buttons div {\n",
              "      margin-bottom: 4px;\n",
              "    }\n",
              "\n",
              "    [theme=dark] .colab-df-convert {\n",
              "      background-color: #3B4455;\n",
              "      fill: #D2E3FC;\n",
              "    }\n",
              "\n",
              "    [theme=dark] .colab-df-convert:hover {\n",
              "      background-color: #434B5C;\n",
              "      box-shadow: 0px 1px 3px 1px rgba(0, 0, 0, 0.15);\n",
              "      filter: drop-shadow(0px 1px 2px rgba(0, 0, 0, 0.3));\n",
              "      fill: #FFFFFF;\n",
              "    }\n",
              "  </style>\n",
              "\n",
              "    <script>\n",
              "      const buttonEl =\n",
              "        document.querySelector('#df-1e3ae2f8-3768-47e0-ac49-0ec142329882 button.colab-df-convert');\n",
              "      buttonEl.style.display =\n",
              "        google.colab.kernel.accessAllowed ? 'block' : 'none';\n",
              "\n",
              "      async function convertToInteractive(key) {\n",
              "        const element = document.querySelector('#df-1e3ae2f8-3768-47e0-ac49-0ec142329882');\n",
              "        const dataTable =\n",
              "          await google.colab.kernel.invokeFunction('convertToInteractive',\n",
              "                                                    [key], {});\n",
              "        if (!dataTable) return;\n",
              "\n",
              "        const docLinkHtml = 'Like what you see? Visit the ' +\n",
              "          '<a target=\"_blank\" href=https://colab.research.google.com/notebooks/data_table.ipynb>data table notebook</a>'\n",
              "          + ' to learn more about interactive tables.';\n",
              "        element.innerHTML = '';\n",
              "        dataTable['output_type'] = 'display_data';\n",
              "        await google.colab.output.renderOutput(dataTable, element);\n",
              "        const docLink = document.createElement('div');\n",
              "        docLink.innerHTML = docLinkHtml;\n",
              "        element.appendChild(docLink);\n",
              "      }\n",
              "    </script>\n",
              "  </div>\n",
              "\n",
              "\n",
              "<div id=\"df-277dd2e3-b2fe-43ce-8b01-10dd4d1daf23\">\n",
              "  <button class=\"colab-df-quickchart\" onclick=\"quickchart('df-277dd2e3-b2fe-43ce-8b01-10dd4d1daf23')\"\n",
              "            title=\"Suggest charts\"\n",
              "            style=\"display:none;\">\n",
              "\n",
              "<svg xmlns=\"http://www.w3.org/2000/svg\" height=\"24px\"viewBox=\"0 0 24 24\"\n",
              "     width=\"24px\">\n",
              "    <g>\n",
              "        <path d=\"M19 3H5c-1.1 0-2 .9-2 2v14c0 1.1.9 2 2 2h14c1.1 0 2-.9 2-2V5c0-1.1-.9-2-2-2zM9 17H7v-7h2v7zm4 0h-2V7h2v10zm4 0h-2v-4h2v4z\"/>\n",
              "    </g>\n",
              "</svg>\n",
              "  </button>\n",
              "\n",
              "<style>\n",
              "  .colab-df-quickchart {\n",
              "      --bg-color: #E8F0FE;\n",
              "      --fill-color: #1967D2;\n",
              "      --hover-bg-color: #E2EBFA;\n",
              "      --hover-fill-color: #174EA6;\n",
              "      --disabled-fill-color: #AAA;\n",
              "      --disabled-bg-color: #DDD;\n",
              "  }\n",
              "\n",
              "  [theme=dark] .colab-df-quickchart {\n",
              "      --bg-color: #3B4455;\n",
              "      --fill-color: #D2E3FC;\n",
              "      --hover-bg-color: #434B5C;\n",
              "      --hover-fill-color: #FFFFFF;\n",
              "      --disabled-bg-color: #3B4455;\n",
              "      --disabled-fill-color: #666;\n",
              "  }\n",
              "\n",
              "  .colab-df-quickchart {\n",
              "    background-color: var(--bg-color);\n",
              "    border: none;\n",
              "    border-radius: 50%;\n",
              "    cursor: pointer;\n",
              "    display: none;\n",
              "    fill: var(--fill-color);\n",
              "    height: 32px;\n",
              "    padding: 0;\n",
              "    width: 32px;\n",
              "  }\n",
              "\n",
              "  .colab-df-quickchart:hover {\n",
              "    background-color: var(--hover-bg-color);\n",
              "    box-shadow: 0 1px 2px rgba(60, 64, 67, 0.3), 0 1px 3px 1px rgba(60, 64, 67, 0.15);\n",
              "    fill: var(--button-hover-fill-color);\n",
              "  }\n",
              "\n",
              "  .colab-df-quickchart-complete:disabled,\n",
              "  .colab-df-quickchart-complete:disabled:hover {\n",
              "    background-color: var(--disabled-bg-color);\n",
              "    fill: var(--disabled-fill-color);\n",
              "    box-shadow: none;\n",
              "  }\n",
              "\n",
              "  .colab-df-spinner {\n",
              "    border: 2px solid var(--fill-color);\n",
              "    border-color: transparent;\n",
              "    border-bottom-color: var(--fill-color);\n",
              "    animation:\n",
              "      spin 1s steps(1) infinite;\n",
              "  }\n",
              "\n",
              "  @keyframes spin {\n",
              "    0% {\n",
              "      border-color: transparent;\n",
              "      border-bottom-color: var(--fill-color);\n",
              "      border-left-color: var(--fill-color);\n",
              "    }\n",
              "    20% {\n",
              "      border-color: transparent;\n",
              "      border-left-color: var(--fill-color);\n",
              "      border-top-color: var(--fill-color);\n",
              "    }\n",
              "    30% {\n",
              "      border-color: transparent;\n",
              "      border-left-color: var(--fill-color);\n",
              "      border-top-color: var(--fill-color);\n",
              "      border-right-color: var(--fill-color);\n",
              "    }\n",
              "    40% {\n",
              "      border-color: transparent;\n",
              "      border-right-color: var(--fill-color);\n",
              "      border-top-color: var(--fill-color);\n",
              "    }\n",
              "    60% {\n",
              "      border-color: transparent;\n",
              "      border-right-color: var(--fill-color);\n",
              "    }\n",
              "    80% {\n",
              "      border-color: transparent;\n",
              "      border-right-color: var(--fill-color);\n",
              "      border-bottom-color: var(--fill-color);\n",
              "    }\n",
              "    90% {\n",
              "      border-color: transparent;\n",
              "      border-bottom-color: var(--fill-color);\n",
              "    }\n",
              "  }\n",
              "</style>\n",
              "\n",
              "  <script>\n",
              "    async function quickchart(key) {\n",
              "      const quickchartButtonEl =\n",
              "        document.querySelector('#' + key + ' button');\n",
              "      quickchartButtonEl.disabled = true;  // To prevent multiple clicks.\n",
              "      quickchartButtonEl.classList.add('colab-df-spinner');\n",
              "      try {\n",
              "        const charts = await google.colab.kernel.invokeFunction(\n",
              "            'suggestCharts', [key], {});\n",
              "      } catch (error) {\n",
              "        console.error('Error during call to suggestCharts:', error);\n",
              "      }\n",
              "      quickchartButtonEl.classList.remove('colab-df-spinner');\n",
              "      quickchartButtonEl.classList.add('colab-df-quickchart-complete');\n",
              "    }\n",
              "    (() => {\n",
              "      let quickchartButtonEl =\n",
              "        document.querySelector('#df-277dd2e3-b2fe-43ce-8b01-10dd4d1daf23 button');\n",
              "      quickchartButtonEl.style.display =\n",
              "        google.colab.kernel.accessAllowed ? 'block' : 'none';\n",
              "    })();\n",
              "  </script>\n",
              "</div>\n",
              "\n",
              "  <div id=\"id_27ea63b8-2e44-4d6e-bf76-87b1085bcc39\">\n",
              "    <style>\n",
              "      .colab-df-generate {\n",
              "        background-color: #E8F0FE;\n",
              "        border: none;\n",
              "        border-radius: 50%;\n",
              "        cursor: pointer;\n",
              "        display: none;\n",
              "        fill: #1967D2;\n",
              "        height: 32px;\n",
              "        padding: 0 0 0 0;\n",
              "        width: 32px;\n",
              "      }\n",
              "\n",
              "      .colab-df-generate:hover {\n",
              "        background-color: #E2EBFA;\n",
              "        box-shadow: 0px 1px 2px rgba(60, 64, 67, 0.3), 0px 1px 3px 1px rgba(60, 64, 67, 0.15);\n",
              "        fill: #174EA6;\n",
              "      }\n",
              "\n",
              "      [theme=dark] .colab-df-generate {\n",
              "        background-color: #3B4455;\n",
              "        fill: #D2E3FC;\n",
              "      }\n",
              "\n",
              "      [theme=dark] .colab-df-generate:hover {\n",
              "        background-color: #434B5C;\n",
              "        box-shadow: 0px 1px 3px 1px rgba(0, 0, 0, 0.15);\n",
              "        filter: drop-shadow(0px 1px 2px rgba(0, 0, 0, 0.3));\n",
              "        fill: #FFFFFF;\n",
              "      }\n",
              "    </style>\n",
              "    <button class=\"colab-df-generate\" onclick=\"generateWithVariable('reviews_df')\"\n",
              "            title=\"Generate code using this dataframe.\"\n",
              "            style=\"display:none;\">\n",
              "\n",
              "  <svg xmlns=\"http://www.w3.org/2000/svg\" height=\"24px\"viewBox=\"0 0 24 24\"\n",
              "       width=\"24px\">\n",
              "    <path d=\"M7,19H8.4L18.45,9,17,7.55,7,17.6ZM5,21V16.75L18.45,3.32a2,2,0,0,1,2.83,0l1.4,1.43a1.91,1.91,0,0,1,.58,1.4,1.91,1.91,0,0,1-.58,1.4L9.25,21ZM18.45,9,17,7.55Zm-12,3A5.31,5.31,0,0,0,4.9,8.1,5.31,5.31,0,0,0,1,6.5,5.31,5.31,0,0,0,4.9,4.9,5.31,5.31,0,0,0,6.5,1,5.31,5.31,0,0,0,8.1,4.9,5.31,5.31,0,0,0,12,6.5,5.46,5.46,0,0,0,6.5,12Z\"/>\n",
              "  </svg>\n",
              "    </button>\n",
              "    <script>\n",
              "      (() => {\n",
              "      const buttonEl =\n",
              "        document.querySelector('#id_27ea63b8-2e44-4d6e-bf76-87b1085bcc39 button.colab-df-generate');\n",
              "      buttonEl.style.display =\n",
              "        google.colab.kernel.accessAllowed ? 'block' : 'none';\n",
              "\n",
              "      buttonEl.onclick = () => {\n",
              "        google.colab.notebook.generateWithVariable('reviews_df');\n",
              "      }\n",
              "      })();\n",
              "    </script>\n",
              "  </div>\n",
              "\n",
              "    </div>\n",
              "  </div>\n"
            ],
            "application/vnd.google.colaboratory.intrinsic+json": {
              "type": "dataframe",
              "variable_name": "reviews_df",
              "summary": "{\n  \"name\": \"reviews_df\",\n  \"rows\": 10000,\n  \"fields\": [\n    {\n      \"column\": \"published_date\",\n      \"properties\": {\n        \"dtype\": \"object\",\n        \"num_unique_values\": 9997,\n        \"samples\": [\n          \"2019-08-13T09:20:12-04:00\",\n          \"2019-08-18T08:08:12-04:00\",\n          \"2020-02-28T10:26:36-05:00\"\n        ],\n        \"semantic_type\": \"\",\n        \"description\": \"\"\n      }\n    },\n    {\n      \"column\": \"published_platform\",\n      \"properties\": {\n        \"dtype\": \"category\",\n        \"num_unique_values\": 2,\n        \"samples\": [\n          \"Mobile\",\n          \"Desktop\"\n        ],\n        \"semantic_type\": \"\",\n        \"description\": \"\"\n      }\n    },\n    {\n      \"column\": \"rating\",\n      \"properties\": {\n        \"dtype\": \"number\",\n        \"std\": 1,\n        \"min\": 1,\n        \"max\": 5,\n        \"num_unique_values\": 5,\n        \"samples\": [\n          5,\n          4\n        ],\n        \"semantic_type\": \"\",\n        \"description\": \"\"\n      }\n    },\n    {\n      \"column\": \"type\",\n      \"properties\": {\n        \"dtype\": \"category\",\n        \"num_unique_values\": 1,\n        \"samples\": [\n          \"review\"\n        ],\n        \"semantic_type\": \"\",\n        \"description\": \"\"\n      }\n    },\n    {\n      \"column\": \"text\",\n      \"properties\": {\n        \"dtype\": \"string\",\n        \"num_unique_values\": 10000,\n        \"samples\": [\n          \"Good flight. The seats were comfortable and we had enough leg room.  It is just annoying when the people in front put there seats back and then watch the entertainment, it seems a case of\\\" I can so I will\\\".\\nThe food was good except the breakfast but overall good choice.\\nWe would use Singapore airlines again, the cabin crew were very nice and efficient and the flight overall wasn't too bad for such a long time.\"\n        ],\n        \"semantic_type\": \"\",\n        \"description\": \"\"\n      }\n    },\n    {\n      \"column\": \"title\",\n      \"properties\": {\n        \"dtype\": \"string\",\n        \"num_unique_values\": 8476,\n        \"samples\": [\n          \"Endless saga of changes to booking\"\n        ],\n        \"semantic_type\": \"\",\n        \"description\": \"\"\n      }\n    },\n    {\n      \"column\": \"helpful_votes\",\n      \"properties\": {\n        \"dtype\": \"number\",\n        \"std\": 2,\n        \"min\": 0,\n        \"max\": 158,\n        \"num_unique_values\": 27,\n        \"samples\": [\n          21\n        ],\n        \"semantic_type\": \"\",\n        \"description\": \"\"\n      }\n    }\n  ]\n}"
            }
          },
          "metadata": {},
          "execution_count": 1
        }
      ],
      "source": [
        "import pandas as pd\n",
        "import numpy as np\n",
        "\n",
        "reviews_df = pd.read_csv('singapore_airlines_reviews.csv')\n",
        "reviews_df"
      ]
    },
    {
      "cell_type": "code",
      "source": [
        "# Map ratings to sentiment categories\n",
        "reviews_df['sentiment'] = reviews_df['rating'].apply(lambda x: 'positive' if x > 3 else ('neutral' if x == 3 else 'negative'))\n",
        "\n",
        "# For simplicity in this example, we'll focus on the 'text' and 'sentiment' columns\n",
        "data = reviews_df[['text', 'sentiment']]\n",
        "\n",
        "# Preprocessing: Lowercase conversion and removing punctuation (a simple example of preprocessing)\n",
        "data['text'] = data['text'].str.lower().str.replace('[^\\w\\s]', '', regex=True)\n",
        "\n",
        "data['sentiment'].value_counts()\n"
      ],
      "metadata": {
        "colab": {
          "base_uri": "https://localhost:8080/"
        },
        "id": "pO1vbjNVjyUS",
        "outputId": "7c4eeb24-4370-42ae-ded9-ae72b5006e3e"
      },
      "execution_count": 2,
      "outputs": [
        {
          "output_type": "stream",
          "name": "stderr",
          "text": [
            "<ipython-input-2-0b0e5fb8260d>:8: SettingWithCopyWarning: \n",
            "A value is trying to be set on a copy of a slice from a DataFrame.\n",
            "Try using .loc[row_indexer,col_indexer] = value instead\n",
            "\n",
            "See the caveats in the documentation: https://pandas.pydata.org/pandas-docs/stable/user_guide/indexing.html#returning-a-view-versus-a-copy\n",
            "  data['text'] = data['text'].str.lower().str.replace('[^\\w\\s]', '', regex=True)\n"
          ]
        },
        {
          "output_type": "execute_result",
          "data": {
            "text/plain": [
              "sentiment\n",
              "positive    7391\n",
              "negative    1600\n",
              "neutral     1009\n",
              "Name: count, dtype: int64"
            ]
          },
          "metadata": {},
          "execution_count": 2
        }
      ]
    },
    {
      "cell_type": "code",
      "source": [
        "print(data)"
      ],
      "metadata": {
        "colab": {
          "base_uri": "https://localhost:8080/"
        },
        "id": "d0kdYuc0y8tC",
        "outputId": "91762ef5-17e3-45a7-8881-1b652e248c37"
      },
      "execution_count": 3,
      "outputs": [
        {
          "output_type": "stream",
          "name": "stdout",
          "text": [
            "                                                   text sentiment\n",
            "0     we used this airline to go from singapore to l...   neutral\n",
            "1     the service on singapore airlines suites class...  positive\n",
            "2     booked paid and received email confirmation fo...  negative\n",
            "3     best airline in the world seats food service a...  positive\n",
            "4     premium economy seating on singapore airlines ...  negative\n",
            "...                                                 ...       ...\n",
            "9995  first part done with singapore airlines  accep...  positive\n",
            "9996  and again a great flight with singapore air gr...  positive\n",
            "9997  we flew business class from frankfurt via sing...  positive\n",
            "9998  as always the a380 aircraft was spotlessly pre...  positive\n",
            "9999  as always singapore airlines has done it again...  positive\n",
            "\n",
            "[10000 rows x 2 columns]\n"
          ]
        }
      ]
    },
    {
      "cell_type": "code",
      "source": [
        "import nltk\n",
        "nltk.download('punkt')"
      ],
      "metadata": {
        "colab": {
          "base_uri": "https://localhost:8080/"
        },
        "id": "kaYK71mGw67O",
        "outputId": "84a3c94d-d012-4727-cc98-e6620aedbe53"
      },
      "execution_count": null,
      "outputs": [
        {
          "output_type": "stream",
          "name": "stderr",
          "text": [
            "[nltk_data] Downloading package punkt to /root/nltk_data...\n",
            "[nltk_data]   Unzipping tokenizers/punkt.zip.\n"
          ]
        },
        {
          "output_type": "execute_result",
          "data": {
            "text/plain": [
              "True"
            ]
          },
          "metadata": {},
          "execution_count": 5
        }
      ]
    },
    {
      "cell_type": "markdown",
      "source": [
        "# Process module with NLTK"
      ],
      "metadata": {
        "id": "zVzJKfG-ECic"
      }
    },
    {
      "cell_type": "code",
      "source": [
        "# sentence tokenization\n",
        "from nltk.tokenize import sent_tokenize\n",
        "\n",
        "data['sentence'] = data['text'].apply(sent_tokenize)\n",
        "\n",
        "print(data[['sentence']].head())"
      ],
      "metadata": {
        "colab": {
          "base_uri": "https://localhost:8080/"
        },
        "id": "FBRKsypzxIx-",
        "outputId": "2e43892a-aeda-42ab-c6f9-1b15f11e9546"
      },
      "execution_count": null,
      "outputs": [
        {
          "output_type": "stream",
          "name": "stdout",
          "text": [
            "                                            sentence\n",
            "0  [we used this airline to go from singapore to ...\n",
            "1  [the service on singapore airlines suites clas...\n",
            "2  [booked paid and received email confirmation f...\n",
            "3  [best airline in the world seats food service ...\n",
            "4  [premium economy seating on singapore airlines...\n"
          ]
        },
        {
          "output_type": "stream",
          "name": "stderr",
          "text": [
            "<ipython-input-6-dce104faeb69>:4: SettingWithCopyWarning: \n",
            "A value is trying to be set on a copy of a slice from a DataFrame.\n",
            "Try using .loc[row_indexer,col_indexer] = value instead\n",
            "\n",
            "See the caveats in the documentation: https://pandas.pydata.org/pandas-docs/stable/user_guide/indexing.html#returning-a-view-versus-a-copy\n",
            "  data['sentence'] = data['text'].apply(sent_tokenize)\n"
          ]
        }
      ]
    },
    {
      "cell_type": "code",
      "source": [
        "# word tokenization\n",
        "from nltk.tokenize import word_tokenize\n",
        "\n",
        "data['word'] = data['text'].apply(word_tokenize)\n",
        "\n",
        "print(data)"
      ],
      "metadata": {
        "colab": {
          "base_uri": "https://localhost:8080/"
        },
        "id": "ayaYsunnytJc",
        "outputId": "f0ea5796-da3a-486f-cb9c-d73cee6f6f8a"
      },
      "execution_count": null,
      "outputs": [
        {
          "output_type": "stream",
          "name": "stdout",
          "text": [
            "                                                   text sentiment  \\\n",
            "0     we used this airline to go from singapore to l...   neutral   \n",
            "1     the service on singapore airlines suites class...  positive   \n",
            "2     booked paid and received email confirmation fo...  negative   \n",
            "3     best airline in the world seats food service a...  positive   \n",
            "4     premium economy seating on singapore airlines ...  negative   \n",
            "...                                                 ...       ...   \n",
            "9995  first part done with singapore airlines  accep...  positive   \n",
            "9996  and again a great flight with singapore air gr...  positive   \n",
            "9997  we flew business class from frankfurt via sing...  positive   \n",
            "9998  as always the a380 aircraft was spotlessly pre...  positive   \n",
            "9999  as always singapore airlines has done it again...  positive   \n",
            "\n",
            "                                               sentence  \\\n",
            "0     [we used this airline to go from singapore to ...   \n",
            "1     [the service on singapore airlines suites clas...   \n",
            "2     [booked paid and received email confirmation f...   \n",
            "3     [best airline in the world seats food service ...   \n",
            "4     [premium economy seating on singapore airlines...   \n",
            "...                                                 ...   \n",
            "9995  [first part done with singapore airlines  acce...   \n",
            "9996  [and again a great flight with singapore air g...   \n",
            "9997  [we flew business class from frankfurt via sin...   \n",
            "9998  [as always the a380 aircraft was spotlessly pr...   \n",
            "9999  [as always singapore airlines has done it agai...   \n",
            "\n",
            "                                                   word  \n",
            "0     [we, used, this, airline, to, go, from, singap...  \n",
            "1     [the, service, on, singapore, airlines, suites...  \n",
            "2     [booked, paid, and, received, email, confirmat...  \n",
            "3     [best, airline, in, the, world, seats, food, s...  \n",
            "4     [premium, economy, seating, on, singapore, air...  \n",
            "...                                                 ...  \n",
            "9995  [first, part, done, with, singapore, airlines,...  \n",
            "9996  [and, again, a, great, flight, with, singapore...  \n",
            "9997  [we, flew, business, class, from, frankfurt, v...  \n",
            "9998  [as, always, the, a380, aircraft, was, spotles...  \n",
            "9999  [as, always, singapore, airlines, has, done, i...  \n",
            "\n",
            "[10000 rows x 4 columns]\n"
          ]
        },
        {
          "output_type": "stream",
          "name": "stderr",
          "text": [
            "<ipython-input-7-4abeeb624a17>:4: SettingWithCopyWarning: \n",
            "A value is trying to be set on a copy of a slice from a DataFrame.\n",
            "Try using .loc[row_indexer,col_indexer] = value instead\n",
            "\n",
            "See the caveats in the documentation: https://pandas.pydata.org/pandas-docs/stable/user_guide/indexing.html#returning-a-view-versus-a-copy\n",
            "  data['word'] = data['text'].apply(word_tokenize)\n"
          ]
        }
      ]
    },
    {
      "cell_type": "code",
      "source": [
        "nltk.download('stopwords')"
      ],
      "metadata": {
        "colab": {
          "base_uri": "https://localhost:8080/"
        },
        "id": "sEpGMt0E1JSf",
        "outputId": "e0121f6e-3ed6-4d6d-aee5-92b2dccbb886"
      },
      "execution_count": null,
      "outputs": [
        {
          "output_type": "stream",
          "name": "stderr",
          "text": [
            "[nltk_data] Downloading package stopwords to /root/nltk_data...\n",
            "[nltk_data]   Unzipping corpora/stopwords.zip.\n"
          ]
        },
        {
          "output_type": "execute_result",
          "data": {
            "text/plain": [
              "True"
            ]
          },
          "metadata": {},
          "execution_count": 8
        }
      ]
    },
    {
      "cell_type": "code",
      "source": [
        "# stop words removal\n",
        "from nltk.corpus import stopwords\n",
        "stop_words = set(stopwords.words('english'))\n",
        "\n",
        "def remove_stop_words_from_list(words_list):\n",
        "    return [word for word in words_list if word.lower() not in stop_words]\n",
        "\n",
        "# Apply the function to each cell in the 'words' column\n",
        "data['filtered_words'] = data['word'].apply(remove_stop_words_from_list)\n"
      ],
      "metadata": {
        "colab": {
          "base_uri": "https://localhost:8080/"
        },
        "id": "OJLVElr71LiJ",
        "outputId": "eed73d07-6417-48d6-dea2-2daebd14d0f4"
      },
      "execution_count": null,
      "outputs": [
        {
          "output_type": "stream",
          "name": "stderr",
          "text": [
            "<ipython-input-9-064539d8f519>:9: SettingWithCopyWarning: \n",
            "A value is trying to be set on a copy of a slice from a DataFrame.\n",
            "Try using .loc[row_indexer,col_indexer] = value instead\n",
            "\n",
            "See the caveats in the documentation: https://pandas.pydata.org/pandas-docs/stable/user_guide/indexing.html#returning-a-view-versus-a-copy\n",
            "  data['filtered_words'] = data['word'].apply(remove_stop_words_from_list)\n"
          ]
        }
      ]
    },
    {
      "cell_type": "code",
      "source": [
        "print(data['filtered_words'])"
      ],
      "metadata": {
        "colab": {
          "base_uri": "https://localhost:8080/"
        },
        "id": "b--MhyFoEF3Y",
        "outputId": "a0429900-d98b-498e-b56f-4ef4a8e558ce"
      },
      "execution_count": null,
      "outputs": [
        {
          "output_type": "stream",
          "name": "stdout",
          "text": [
            "0       [used, airline, go, singapore, london, heathro...\n",
            "1       [service, singapore, airlines, suites, class, ...\n",
            "2       [booked, paid, received, email, confirmation, ...\n",
            "3       [best, airline, world, seats, food, service, b...\n",
            "4       [premium, economy, seating, singapore, airline...\n",
            "                              ...                        \n",
            "9995    [first, part, done, singapore, airlines, accep...\n",
            "9996    [great, flight, singapore, air, great, unique,...\n",
            "9997    [flew, business, class, frankfurt, via, singap...\n",
            "9998    [always, a380, aircraft, spotlessly, presented...\n",
            "9999    [always, singapore, airlines, done, redeye, fl...\n",
            "Name: filtered_words, Length: 10000, dtype: object\n"
          ]
        }
      ]
    },
    {
      "cell_type": "code",
      "source": [
        "# Stemmer\n",
        "from nltk.stem import PorterStemmer\n",
        "\n",
        "# Initialize the PorterStemmer\n",
        "stemmer = PorterStemmer()\n",
        "\n",
        "def stem_words(words_list):\n",
        "    return [stemmer.stem(word) for word in words_list]\n",
        "\n",
        "# Assuming 'filtered_words' is your column with stop words removed\n",
        "data['filtered_words'] = data['filtered_words'].apply(stem_words)\n"
      ],
      "metadata": {
        "colab": {
          "base_uri": "https://localhost:8080/"
        },
        "id": "eb_YyaG6-Cdy",
        "outputId": "858af6b0-74ee-4b23-c005-64cfc45b3d11"
      },
      "execution_count": null,
      "outputs": [
        {
          "output_type": "stream",
          "name": "stderr",
          "text": [
            "<ipython-input-11-44cc522bfe27>:11: SettingWithCopyWarning: \n",
            "A value is trying to be set on a copy of a slice from a DataFrame.\n",
            "Try using .loc[row_indexer,col_indexer] = value instead\n",
            "\n",
            "See the caveats in the documentation: https://pandas.pydata.org/pandas-docs/stable/user_guide/indexing.html#returning-a-view-versus-a-copy\n",
            "  data['filtered_words'] = data['filtered_words'].apply(stem_words)\n"
          ]
        }
      ]
    },
    {
      "cell_type": "code",
      "source": [
        "from nltk.stem import WordNetLemmatizer\n",
        "nltk.download('wordnet')"
      ],
      "metadata": {
        "colab": {
          "base_uri": "https://localhost:8080/"
        },
        "id": "FuLbasW90KTM",
        "outputId": "aeeabb78-eebf-49dd-d613-de656660ae33"
      },
      "execution_count": null,
      "outputs": [
        {
          "output_type": "stream",
          "name": "stderr",
          "text": [
            "[nltk_data] Downloading package wordnet to /root/nltk_data...\n"
          ]
        },
        {
          "output_type": "execute_result",
          "data": {
            "text/plain": [
              "True"
            ]
          },
          "metadata": {},
          "execution_count": 12
        }
      ]
    },
    {
      "cell_type": "code",
      "source": [
        "# Lemmatization\n",
        "# Initialize the WordNet Lemmatizer\n",
        "lemmatizer = WordNetLemmatizer()\n",
        "\n",
        "# Function to lemmatize each word in a list of words\n",
        "def lemmatize_words(words_list):\n",
        "    return [lemmatizer.lemmatize(word) for word in words_list]\n",
        "\n",
        "# Apply the function to lemmatize the words in each list\n",
        "data['filtered_words'] = data['filtered_words'].apply(lemmatize_words)\n"
      ],
      "metadata": {
        "colab": {
          "base_uri": "https://localhost:8080/"
        },
        "id": "OFKwHFahvDgo",
        "outputId": "dfcd77dd-69b0-40bc-fcf2-f8bbf9665578"
      },
      "execution_count": null,
      "outputs": [
        {
          "output_type": "stream",
          "name": "stderr",
          "text": [
            "<ipython-input-13-4637ecbd9e46>:10: SettingWithCopyWarning: \n",
            "A value is trying to be set on a copy of a slice from a DataFrame.\n",
            "Try using .loc[row_indexer,col_indexer] = value instead\n",
            "\n",
            "See the caveats in the documentation: https://pandas.pydata.org/pandas-docs/stable/user_guide/indexing.html#returning-a-view-versus-a-copy\n",
            "  data['filtered_words'] = data['filtered_words'].apply(lemmatize_words)\n"
          ]
        }
      ]
    },
    {
      "cell_type": "code",
      "source": [
        "print(data)"
      ],
      "metadata": {
        "colab": {
          "base_uri": "https://localhost:8080/"
        },
        "id": "xs9ho1wZ1PG2",
        "outputId": "2d51569c-19a9-4cfd-c627-47e98c6ee583"
      },
      "execution_count": null,
      "outputs": [
        {
          "output_type": "stream",
          "name": "stdout",
          "text": [
            "                                                   text sentiment  \\\n",
            "0     we used this airline to go from singapore to l...   neutral   \n",
            "1     the service on singapore airlines suites class...  positive   \n",
            "2     booked paid and received email confirmation fo...  negative   \n",
            "3     best airline in the world seats food service a...  positive   \n",
            "4     premium economy seating on singapore airlines ...  negative   \n",
            "...                                                 ...       ...   \n",
            "9995  first part done with singapore airlines  accep...  positive   \n",
            "9996  and again a great flight with singapore air gr...  positive   \n",
            "9997  we flew business class from frankfurt via sing...  positive   \n",
            "9998  as always the a380 aircraft was spotlessly pre...  positive   \n",
            "9999  as always singapore airlines has done it again...  positive   \n",
            "\n",
            "                                               sentence  \\\n",
            "0     [we used this airline to go from singapore to ...   \n",
            "1     [the service on singapore airlines suites clas...   \n",
            "2     [booked paid and received email confirmation f...   \n",
            "3     [best airline in the world seats food service ...   \n",
            "4     [premium economy seating on singapore airlines...   \n",
            "...                                                 ...   \n",
            "9995  [first part done with singapore airlines  acce...   \n",
            "9996  [and again a great flight with singapore air g...   \n",
            "9997  [we flew business class from frankfurt via sin...   \n",
            "9998  [as always the a380 aircraft was spotlessly pr...   \n",
            "9999  [as always singapore airlines has done it agai...   \n",
            "\n",
            "                                                   word  \\\n",
            "0     [we, used, this, airline, to, go, from, singap...   \n",
            "1     [the, service, on, singapore, airlines, suites...   \n",
            "2     [booked, paid, and, received, email, confirmat...   \n",
            "3     [best, airline, in, the, world, seats, food, s...   \n",
            "4     [premium, economy, seating, on, singapore, air...   \n",
            "...                                                 ...   \n",
            "9995  [first, part, done, with, singapore, airlines,...   \n",
            "9996  [and, again, a, great, flight, with, singapore...   \n",
            "9997  [we, flew, business, class, from, frankfurt, v...   \n",
            "9998  [as, always, the, a380, aircraft, was, spotles...   \n",
            "9999  [as, always, singapore, airlines, has, done, i...   \n",
            "\n",
            "                                         filtered_words  \n",
            "0     [use, airlin, go, singapor, london, heathrow, ...  \n",
            "1     [servic, singapor, airlin, suit, class, noth, ...  \n",
            "2     [book, paid, receiv, email, confirm, extra, le...  \n",
            "3     [best, airlin, world, seat, food, servic, bril...  \n",
            "4     [premium, economi, seat, singapor, airlin, nar...  \n",
            "...                                                 ...  \n",
            "9995  [first, part, done, singapor, airlin, accept, ...  \n",
            "9996  [great, flight, singapor, air, great, uniqu, s...  \n",
            "9997  [flew, busi, class, frankfurt, via, singapor, ...  \n",
            "9998  [alway, a380, aircraft, spotlessli, present, b...  \n",
            "9999  [alway, singapor, airlin, done, redey, flight,...  \n",
            "\n",
            "[10000 rows x 5 columns]\n"
          ]
        }
      ]
    },
    {
      "cell_type": "markdown",
      "source": [
        "# Part of Speech Tagging"
      ],
      "metadata": {
        "id": "XiJ8qSU-FOZ7"
      }
    },
    {
      "cell_type": "code",
      "source": [
        "nltk.download('averaged_perceptron_tagger')"
      ],
      "metadata": {
        "colab": {
          "base_uri": "https://localhost:8080/"
        },
        "id": "vyMHO2FcLT7p",
        "outputId": "4d5e5024-706e-43ee-d086-bc387231d2b5"
      },
      "execution_count": null,
      "outputs": [
        {
          "output_type": "stream",
          "name": "stderr",
          "text": [
            "[nltk_data] Downloading package averaged_perceptron_tagger to\n",
            "[nltk_data]     /root/nltk_data...\n",
            "[nltk_data]   Package averaged_perceptron_tagger is already up-to-\n",
            "[nltk_data]       date!\n"
          ]
        },
        {
          "output_type": "execute_result",
          "data": {
            "text/plain": [
              "True"
            ]
          },
          "metadata": {},
          "execution_count": 121
        }
      ]
    },
    {
      "cell_type": "code",
      "source": [
        "from nltk import pos_tag\n",
        "from collections import Counter\n",
        "\n",
        "data['sentence_pos_counts'] = data['filtered_words'].apply(lambda tokens: Counter(tag for word, tag in pos_tag(tokens)))\n",
        "\n",
        "print(data['sentence_pos_counts'])"
      ],
      "metadata": {
        "colab": {
          "base_uri": "https://localhost:8080/"
        },
        "id": "08ZOO8SER05q",
        "outputId": "6e542337-2a17-45cb-ea06-d0ed4702a844"
      },
      "execution_count": null,
      "outputs": [
        {
          "output_type": "stream",
          "name": "stdout",
          "text": [
            "0       {'NN': 69, 'VBP': 8, 'JJ': 24, 'CD': 5, 'VB': ...\n",
            "1       {'JJ': 56, 'NN': 269, 'DT': 2, 'VBP': 11, 'VBD...\n",
            "2       {'NN': 29, 'VBD': 3, 'JJ': 9, 'CD': 6, 'VBN': ...\n",
            "3                 {'JJS': 1, 'NN': 11, 'VBD': 1, 'JJ': 1}\n",
            "4       {'JJ': 17, 'NN': 34, 'VBD': 1, 'IN': 1, 'VBP':...\n",
            "                              ...                        \n",
            "9995    {'JJ': 2, 'NN': 15, 'VBN': 1, 'IN': 1, 'NNS': ...\n",
            "9996      {'JJ': 4, 'NN': 10, 'VB': 1, 'NNS': 1, 'IN': 1}\n",
            "9997      {'JJ': 8, 'NN': 21, 'IN': 1, 'VBD': 4, 'RB': 1}\n",
            "9998    {'RB': 1, 'NN': 21, 'JJ': 5, 'VBD': 1, 'CD': 1...\n",
            "9999    {'RB': 6, 'JJ': 7, 'NN': 12, 'VBN': 1, 'VBP': ...\n",
            "Name: sentence_pos_counts, Length: 10000, dtype: object\n"
          ]
        },
        {
          "output_type": "stream",
          "name": "stderr",
          "text": [
            "<ipython-input-122-3968acac01d7>:4: SettingWithCopyWarning: \n",
            "A value is trying to be set on a copy of a slice from a DataFrame.\n",
            "Try using .loc[row_indexer,col_indexer] = value instead\n",
            "\n",
            "See the caveats in the documentation: https://pandas.pydata.org/pandas-docs/stable/user_guide/indexing.html#returning-a-view-versus-a-copy\n",
            "  data['sentence_pos_counts'] = data['filtered_words'].apply(lambda tokens: Counter(tag for word, tag in pos_tag(tokens)))\n"
          ]
        }
      ]
    },
    {
      "cell_type": "markdown",
      "source": [
        "# TF-IDF"
      ],
      "metadata": {
        "id": "8y3n4wcbDPLL"
      }
    },
    {
      "cell_type": "code",
      "source": [
        "from sklearn.feature_extraction.text import TfidfVectorizer\n",
        "\n",
        "data['filtered_words'] = data['filtered_words'].apply(' '.join)\n",
        "\n",
        "vectorizer = TfidfVectorizer(max_df=0.95, min_df=2, max_features=10000, use_idf=True, ngram_range=(1, 3))\n",
        "\n",
        "tfidf_matrix = vectorizer.fit_transform(data['filtered_words'])\n"
      ],
      "metadata": {
        "colab": {
          "base_uri": "https://localhost:8080/"
        },
        "id": "0m59P41XwLjh",
        "outputId": "e39b416b-8c37-4358-c542-41e17efac432"
      },
      "execution_count": null,
      "outputs": [
        {
          "output_type": "stream",
          "name": "stderr",
          "text": [
            "<ipython-input-123-67596a9b6dbb>:3: SettingWithCopyWarning: \n",
            "A value is trying to be set on a copy of a slice from a DataFrame.\n",
            "Try using .loc[row_indexer,col_indexer] = value instead\n",
            "\n",
            "See the caveats in the documentation: https://pandas.pydata.org/pandas-docs/stable/user_guide/indexing.html#returning-a-view-versus-a-copy\n",
            "  data['filtered_words'] = data['filtered_words'].apply(' '.join)\n"
          ]
        }
      ]
    },
    {
      "cell_type": "code",
      "source": [
        "from sklearn.model_selection import train_test_split\n",
        "from sklearn.ensemble import RandomForestClassifier\n",
        "\n",
        "# First, split the data into training plus validation, and test sets\n",
        "X_train_val, X_test, y_train_val, y_test = train_test_split(tfidf_matrix, data['sentiment'], test_size=0.2, random_state=42)\n",
        "\n",
        "# Now split the training plus validation set into training and validation sets\n",
        "X_train, X_val, y_train, y_val = train_test_split(X_train_val, y_train_val, test_size=0.25, random_state=42)  # This results in 60% training, 20% validation, 20% test\n",
        "\n",
        "# Initialize a classifier (example: Random Forest)\n",
        "classifier = RandomForestClassifier()\n",
        "\n",
        "# Train the classifier on the training set\n",
        "classifier.fit(X_train, y_train)\n",
        "\n",
        "# Optionally evaluate on the validation set\n",
        "val_predictions = classifier.predict(X_val)\n",
        "\n",
        "# Make predictions on the test set\n",
        "test_predictions = classifier.predict(X_test)"
      ],
      "metadata": {
        "id": "henj2EJBygCC"
      },
      "execution_count": null,
      "outputs": []
    },
    {
      "cell_type": "code",
      "source": [
        "from sklearn.metrics import accuracy_score, classification_report\n",
        "\n",
        "print(\"Accuracy:\", accuracy_score(y_test, predictions))\n",
        "print(classification_report(y_test, predictions))\n"
      ],
      "metadata": {
        "colab": {
          "base_uri": "https://localhost:8080/"
        },
        "id": "ljYqSnm2ynGq",
        "outputId": "b93a7140-d1b1-4b65-fb45-0b85336fb30b"
      },
      "execution_count": null,
      "outputs": [
        {
          "output_type": "stream",
          "name": "stdout",
          "text": [
            "Accuracy: 0.8105\n",
            "              precision    recall  f1-score   support\n",
            "\n",
            "    negative       0.78      0.55      0.64       316\n",
            "     neutral       1.00      0.00      0.01       211\n",
            "    positive       0.81      0.98      0.89      1473\n",
            "\n",
            "    accuracy                           0.81      2000\n",
            "   macro avg       0.87      0.51      0.51      2000\n",
            "weighted avg       0.83      0.81      0.76      2000\n",
            "\n"
          ]
        }
      ]
    },
    {
      "cell_type": "markdown",
      "source": [
        "# SVM model"
      ],
      "metadata": {
        "id": "mCxEz_ynDV5Z"
      }
    },
    {
      "cell_type": "code",
      "source": [
        "from sklearn.feature_extraction.text import TfidfVectorizer\n",
        "from sklearn.model_selection import train_test_split\n",
        "from sklearn.svm import SVC\n",
        "from sklearn.metrics import classification_report, accuracy_score\n"
      ],
      "metadata": {
        "id": "Bp4mj5NyDbcf"
      },
      "execution_count": null,
      "outputs": []
    },
    {
      "cell_type": "code",
      "source": [
        "# Sample text data and labels\n",
        "texts = data['filtered_words']  # Assuming 'text' contains the cleaned, raw text documents\n",
        "labels = data['sentiment']  # Assuming 'sentiment' is the target variable\n",
        "\n",
        "# Initialize TF-IDF Vectorizer\n",
        "vectorizer = TfidfVectorizer(max_df=0.95, min_df=2, max_features=10000, use_idf=True)\n",
        "\n",
        "# Apply TF-IDF to the text data\n",
        "X = vectorizer.fit_transform(texts)\n",
        "\n",
        "# Split the dataset into training and testing sets\n",
        "X_train, X_test, y_train, y_test = train_test_split(X, labels, test_size=0.2, random_state=42)\n"
      ],
      "metadata": {
        "id": "-dnBTDcgDeCL"
      },
      "execution_count": null,
      "outputs": []
    },
    {
      "cell_type": "code",
      "source": [
        "from sklearn.svm import SVC\n",
        "# Initialize the Support Vector Classifier\n",
        "svm_classifier = SVC(kernel='linear')\n",
        "\n",
        "# Train the classifier\n",
        "svm_classifier.fit(X_train, y_train)\n"
      ],
      "metadata": {
        "colab": {
          "base_uri": "https://localhost:8080/",
          "height": 74
        },
        "id": "y6H_MDeszkRy",
        "outputId": "459dde47-6aa1-4486-b0fd-4f462c1012b6"
      },
      "execution_count": null,
      "outputs": [
        {
          "output_type": "execute_result",
          "data": {
            "text/plain": [
              "SVC(kernel='linear')"
            ],
            "text/html": [
              "<style>#sk-container-id-4 {color: black;background-color: white;}#sk-container-id-4 pre{padding: 0;}#sk-container-id-4 div.sk-toggleable {background-color: white;}#sk-container-id-4 label.sk-toggleable__label {cursor: pointer;display: block;width: 100%;margin-bottom: 0;padding: 0.3em;box-sizing: border-box;text-align: center;}#sk-container-id-4 label.sk-toggleable__label-arrow:before {content: \"▸\";float: left;margin-right: 0.25em;color: #696969;}#sk-container-id-4 label.sk-toggleable__label-arrow:hover:before {color: black;}#sk-container-id-4 div.sk-estimator:hover label.sk-toggleable__label-arrow:before {color: black;}#sk-container-id-4 div.sk-toggleable__content {max-height: 0;max-width: 0;overflow: hidden;text-align: left;background-color: #f0f8ff;}#sk-container-id-4 div.sk-toggleable__content pre {margin: 0.2em;color: black;border-radius: 0.25em;background-color: #f0f8ff;}#sk-container-id-4 input.sk-toggleable__control:checked~div.sk-toggleable__content {max-height: 200px;max-width: 100%;overflow: auto;}#sk-container-id-4 input.sk-toggleable__control:checked~label.sk-toggleable__label-arrow:before {content: \"▾\";}#sk-container-id-4 div.sk-estimator input.sk-toggleable__control:checked~label.sk-toggleable__label {background-color: #d4ebff;}#sk-container-id-4 div.sk-label input.sk-toggleable__control:checked~label.sk-toggleable__label {background-color: #d4ebff;}#sk-container-id-4 input.sk-hidden--visually {border: 0;clip: rect(1px 1px 1px 1px);clip: rect(1px, 1px, 1px, 1px);height: 1px;margin: -1px;overflow: hidden;padding: 0;position: absolute;width: 1px;}#sk-container-id-4 div.sk-estimator {font-family: monospace;background-color: #f0f8ff;border: 1px dotted black;border-radius: 0.25em;box-sizing: border-box;margin-bottom: 0.5em;}#sk-container-id-4 div.sk-estimator:hover {background-color: #d4ebff;}#sk-container-id-4 div.sk-parallel-item::after {content: \"\";width: 100%;border-bottom: 1px solid gray;flex-grow: 1;}#sk-container-id-4 div.sk-label:hover label.sk-toggleable__label {background-color: #d4ebff;}#sk-container-id-4 div.sk-serial::before {content: \"\";position: absolute;border-left: 1px solid gray;box-sizing: border-box;top: 0;bottom: 0;left: 50%;z-index: 0;}#sk-container-id-4 div.sk-serial {display: flex;flex-direction: column;align-items: center;background-color: white;padding-right: 0.2em;padding-left: 0.2em;position: relative;}#sk-container-id-4 div.sk-item {position: relative;z-index: 1;}#sk-container-id-4 div.sk-parallel {display: flex;align-items: stretch;justify-content: center;background-color: white;position: relative;}#sk-container-id-4 div.sk-item::before, #sk-container-id-4 div.sk-parallel-item::before {content: \"\";position: absolute;border-left: 1px solid gray;box-sizing: border-box;top: 0;bottom: 0;left: 50%;z-index: -1;}#sk-container-id-4 div.sk-parallel-item {display: flex;flex-direction: column;z-index: 1;position: relative;background-color: white;}#sk-container-id-4 div.sk-parallel-item:first-child::after {align-self: flex-end;width: 50%;}#sk-container-id-4 div.sk-parallel-item:last-child::after {align-self: flex-start;width: 50%;}#sk-container-id-4 div.sk-parallel-item:only-child::after {width: 0;}#sk-container-id-4 div.sk-dashed-wrapped {border: 1px dashed gray;margin: 0 0.4em 0.5em 0.4em;box-sizing: border-box;padding-bottom: 0.4em;background-color: white;}#sk-container-id-4 div.sk-label label {font-family: monospace;font-weight: bold;display: inline-block;line-height: 1.2em;}#sk-container-id-4 div.sk-label-container {text-align: center;}#sk-container-id-4 div.sk-container {/* jupyter's `normalize.less` sets `[hidden] { display: none; }` but bootstrap.min.css set `[hidden] { display: none !important; }` so we also need the `!important` here to be able to override the default hidden behavior on the sphinx rendered scikit-learn.org. See: https://github.com/scikit-learn/scikit-learn/issues/21755 */display: inline-block !important;position: relative;}#sk-container-id-4 div.sk-text-repr-fallback {display: none;}</style><div id=\"sk-container-id-4\" class=\"sk-top-container\"><div class=\"sk-text-repr-fallback\"><pre>SVC(kernel=&#x27;linear&#x27;)</pre><b>In a Jupyter environment, please rerun this cell to show the HTML representation or trust the notebook. <br />On GitHub, the HTML representation is unable to render, please try loading this page with nbviewer.org.</b></div><div class=\"sk-container\" hidden><div class=\"sk-item\"><div class=\"sk-estimator sk-toggleable\"><input class=\"sk-toggleable__control sk-hidden--visually\" id=\"sk-estimator-id-4\" type=\"checkbox\" checked><label for=\"sk-estimator-id-4\" class=\"sk-toggleable__label sk-toggleable__label-arrow\">SVC</label><div class=\"sk-toggleable__content\"><pre>SVC(kernel=&#x27;linear&#x27;)</pre></div></div></div></div></div>"
            ]
          },
          "metadata": {},
          "execution_count": 128
        }
      ]
    },
    {
      "cell_type": "code",
      "source": [
        "# Predict on the test set\n",
        "y_pred = svm_classifier.predict(X_test)\n",
        "\n",
        "# Evaluate the performance\n",
        "print(\"Accuracy:\", accuracy_score(y_test, y_pred))\n",
        "print(classification_report(y_test, y_pred))\n"
      ],
      "metadata": {
        "colab": {
          "base_uri": "https://localhost:8080/"
        },
        "id": "akYIddv20ldR",
        "outputId": "9579627a-cfd8-4fd8-cee0-3874486a0690"
      },
      "execution_count": null,
      "outputs": [
        {
          "output_type": "stream",
          "name": "stdout",
          "text": [
            "Accuracy: 0.8445\n",
            "              precision    recall  f1-score   support\n",
            "\n",
            "    negative       0.70      0.71      0.71       316\n",
            "     neutral       0.48      0.24      0.32       211\n",
            "    positive       0.90      0.96      0.93      1473\n",
            "\n",
            "    accuracy                           0.84      2000\n",
            "   macro avg       0.69      0.64      0.65      2000\n",
            "weighted avg       0.82      0.84      0.83      2000\n",
            "\n"
          ]
        }
      ]
    },
    {
      "cell_type": "code",
      "source": [
        "from sklearn.model_selection import GridSearchCV\n",
        "\n",
        "# Define parameter range\n",
        "param_grid = {\n",
        "    'C': [0.1, 1, 10],  # Note: Adjust these values based on your specific needs\n",
        "    'gamma': [1, 0.1, 0.01],\n",
        "    'kernel': ['linear', 'rbf']\n",
        "}\n",
        "\n",
        "# Create a GridSearchCV object\n",
        "grid = GridSearchCV(SVC(), param_grid, refit=True, verbose=3)\n",
        "\n",
        "# Fitting the model for grid search\n",
        "grid.fit(X_train, y_train)\n",
        "\n",
        "# Print best parameter after tuning\n",
        "print(grid.best_params_)\n",
        "\n",
        "# Print how our model looks after hyper-parameter tuning\n",
        "print(grid.best_estimator_)\n",
        "\n",
        "best_svm = grid.best_estimator_\n",
        "final_predictions = best_svm.predict(X_test)\n",
        "print(\"Final model accuracy: {:.2f}\".format(accuracy_score(y_test, final_predictions)))"
      ],
      "metadata": {
        "id": "M3P5ctm0aAIi",
        "colab": {
          "base_uri": "https://localhost:8080/"
        },
        "outputId": "46dcd5e4-0daf-40a4-929a-1a9e05bfa088"
      },
      "execution_count": null,
      "outputs": [
        {
          "output_type": "stream",
          "name": "stdout",
          "text": [
            "Fitting 5 folds for each of 18 candidates, totalling 90 fits\n",
            "[CV 1/5] END .....C=0.1, gamma=1, kernel=linear;, score=0.796 total time=  12.9s\n",
            "[CV 2/5] END .....C=0.1, gamma=1, kernel=linear;, score=0.792 total time=  12.8s\n",
            "[CV 3/5] END .....C=0.1, gamma=1, kernel=linear;, score=0.791 total time=  12.8s\n",
            "[CV 4/5] END .....C=0.1, gamma=1, kernel=linear;, score=0.798 total time=  12.9s\n",
            "[CV 5/5] END .....C=0.1, gamma=1, kernel=linear;, score=0.791 total time=  13.4s\n",
            "[CV 1/5] END ........C=0.1, gamma=1, kernel=rbf;, score=0.743 total time=  17.0s\n",
            "[CV 2/5] END ........C=0.1, gamma=1, kernel=rbf;, score=0.741 total time=  17.2s\n",
            "[CV 3/5] END ........C=0.1, gamma=1, kernel=rbf;, score=0.741 total time=  17.5s\n",
            "[CV 4/5] END ........C=0.1, gamma=1, kernel=rbf;, score=0.744 total time=  16.6s\n",
            "[CV 5/5] END ........C=0.1, gamma=1, kernel=rbf;, score=0.743 total time=  17.5s\n",
            "[CV 1/5] END ...C=0.1, gamma=0.1, kernel=linear;, score=0.796 total time=  13.1s\n",
            "[CV 2/5] END ...C=0.1, gamma=0.1, kernel=linear;, score=0.792 total time=  13.0s\n",
            "[CV 3/5] END ...C=0.1, gamma=0.1, kernel=linear;, score=0.791 total time=  13.0s\n",
            "[CV 4/5] END ...C=0.1, gamma=0.1, kernel=linear;, score=0.798 total time=  13.0s\n",
            "[CV 5/5] END ...C=0.1, gamma=0.1, kernel=linear;, score=0.791 total time=  12.9s\n",
            "[CV 1/5] END ......C=0.1, gamma=0.1, kernel=rbf;, score=0.740 total time=  14.3s\n",
            "[CV 2/5] END ......C=0.1, gamma=0.1, kernel=rbf;, score=0.740 total time=  14.3s\n",
            "[CV 3/5] END ......C=0.1, gamma=0.1, kernel=rbf;, score=0.740 total time=  14.4s\n",
            "[CV 4/5] END ......C=0.1, gamma=0.1, kernel=rbf;, score=0.739 total time=  14.3s\n",
            "[CV 5/5] END ......C=0.1, gamma=0.1, kernel=rbf;, score=0.739 total time=  14.9s\n",
            "[CV 1/5] END ..C=0.1, gamma=0.01, kernel=linear;, score=0.796 total time=  13.0s\n",
            "[CV 2/5] END ..C=0.1, gamma=0.01, kernel=linear;, score=0.792 total time=  12.8s\n",
            "[CV 3/5] END ..C=0.1, gamma=0.01, kernel=linear;, score=0.791 total time=  12.9s\n",
            "[CV 4/5] END ..C=0.1, gamma=0.01, kernel=linear;, score=0.798 total time=  12.8s\n",
            "[CV 5/5] END ..C=0.1, gamma=0.01, kernel=linear;, score=0.791 total time=  13.0s\n",
            "[CV 1/5] END .....C=0.1, gamma=0.01, kernel=rbf;, score=0.740 total time=  14.1s\n",
            "[CV 2/5] END .....C=0.1, gamma=0.01, kernel=rbf;, score=0.740 total time=  14.0s\n",
            "[CV 3/5] END .....C=0.1, gamma=0.01, kernel=rbf;, score=0.740 total time=  14.1s\n",
            "[CV 4/5] END .....C=0.1, gamma=0.01, kernel=rbf;, score=0.739 total time=  14.1s\n",
            "[CV 5/5] END .....C=0.1, gamma=0.01, kernel=rbf;, score=0.739 total time=  14.4s\n",
            "[CV 1/5] END .......C=1, gamma=1, kernel=linear;, score=0.859 total time=  10.3s\n",
            "[CV 2/5] END .......C=1, gamma=1, kernel=linear;, score=0.854 total time=  10.7s\n",
            "[CV 3/5] END .......C=1, gamma=1, kernel=linear;, score=0.854 total time=  10.7s\n",
            "[CV 4/5] END .......C=1, gamma=1, kernel=linear;, score=0.854 total time=  10.7s\n",
            "[CV 5/5] END .......C=1, gamma=1, kernel=linear;, score=0.853 total time=  10.7s\n",
            "[CV 1/5] END ..........C=1, gamma=1, kernel=rbf;, score=0.851 total time=  16.6s\n",
            "[CV 2/5] END ..........C=1, gamma=1, kernel=rbf;, score=0.848 total time=  16.8s\n",
            "[CV 3/5] END ..........C=1, gamma=1, kernel=rbf;, score=0.848 total time=  16.5s\n",
            "[CV 4/5] END ..........C=1, gamma=1, kernel=rbf;, score=0.848 total time=  16.5s\n",
            "[CV 5/5] END ..........C=1, gamma=1, kernel=rbf;, score=0.848 total time=  17.2s\n",
            "[CV 1/5] END .....C=1, gamma=0.1, kernel=linear;, score=0.859 total time=  10.5s\n",
            "[CV 2/5] END .....C=1, gamma=0.1, kernel=linear;, score=0.854 total time=  10.6s\n",
            "[CV 3/5] END .....C=1, gamma=0.1, kernel=linear;, score=0.854 total time=  10.8s\n",
            "[CV 4/5] END .....C=1, gamma=0.1, kernel=linear;, score=0.854 total time=  10.8s\n",
            "[CV 5/5] END .....C=1, gamma=0.1, kernel=linear;, score=0.853 total time=  10.7s\n",
            "[CV 1/5] END ........C=1, gamma=0.1, kernel=rbf;, score=0.824 total time=  13.1s\n",
            "[CV 2/5] END ........C=1, gamma=0.1, kernel=rbf;, score=0.816 total time=  12.9s\n",
            "[CV 3/5] END ........C=1, gamma=0.1, kernel=rbf;, score=0.820 total time=  13.1s\n",
            "[CV 4/5] END ........C=1, gamma=0.1, kernel=rbf;, score=0.822 total time=  13.1s\n",
            "[CV 5/5] END ........C=1, gamma=0.1, kernel=rbf;, score=0.822 total time=  13.2s\n",
            "[CV 1/5] END ....C=1, gamma=0.01, kernel=linear;, score=0.859 total time=  10.7s\n",
            "[CV 2/5] END ....C=1, gamma=0.01, kernel=linear;, score=0.854 total time=  10.7s\n",
            "[CV 3/5] END ....C=1, gamma=0.01, kernel=linear;, score=0.854 total time=  10.8s\n",
            "[CV 4/5] END ....C=1, gamma=0.01, kernel=linear;, score=0.854 total time=  10.8s\n",
            "[CV 5/5] END ....C=1, gamma=0.01, kernel=linear;, score=0.853 total time=  10.6s\n",
            "[CV 1/5] END .......C=1, gamma=0.01, kernel=rbf;, score=0.740 total time=  14.2s\n",
            "[CV 2/5] END .......C=1, gamma=0.01, kernel=rbf;, score=0.740 total time=  14.1s\n",
            "[CV 3/5] END .......C=1, gamma=0.01, kernel=rbf;, score=0.740 total time=  14.2s\n",
            "[CV 4/5] END .......C=1, gamma=0.01, kernel=rbf;, score=0.739 total time=  14.1s\n",
            "[CV 5/5] END .......C=1, gamma=0.01, kernel=rbf;, score=0.739 total time=  14.2s\n",
            "[CV 1/5] END ......C=10, gamma=1, kernel=linear;, score=0.837 total time=  10.7s\n",
            "[CV 2/5] END ......C=10, gamma=1, kernel=linear;, score=0.826 total time=  10.5s\n",
            "[CV 3/5] END ......C=10, gamma=1, kernel=linear;, score=0.833 total time=  10.8s\n",
            "[CV 4/5] END ......C=10, gamma=1, kernel=linear;, score=0.834 total time=  10.6s\n",
            "[CV 5/5] END ......C=10, gamma=1, kernel=linear;, score=0.825 total time=  10.9s\n",
            "[CV 1/5] END .........C=10, gamma=1, kernel=rbf;, score=0.869 total time=  19.7s\n",
            "[CV 2/5] END .........C=10, gamma=1, kernel=rbf;, score=0.854 total time=  19.7s\n",
            "[CV 3/5] END .........C=10, gamma=1, kernel=rbf;, score=0.858 total time=  20.2s\n",
            "[CV 4/5] END .........C=10, gamma=1, kernel=rbf;, score=0.855 total time=  19.6s\n",
            "[CV 5/5] END .........C=10, gamma=1, kernel=rbf;, score=0.854 total time=  20.0s\n",
            "[CV 1/5] END ....C=10, gamma=0.1, kernel=linear;, score=0.837 total time=  10.5s\n",
            "[CV 2/5] END ....C=10, gamma=0.1, kernel=linear;, score=0.826 total time=  10.2s\n",
            "[CV 3/5] END ....C=10, gamma=0.1, kernel=linear;, score=0.833 total time=  10.7s\n",
            "[CV 4/5] END ....C=10, gamma=0.1, kernel=linear;, score=0.834 total time=  11.1s\n",
            "[CV 5/5] END ....C=10, gamma=0.1, kernel=linear;, score=0.825 total time=  11.0s\n",
            "[CV 1/5] END .......C=10, gamma=0.1, kernel=rbf;, score=0.858 total time=  12.0s\n",
            "[CV 2/5] END .......C=10, gamma=0.1, kernel=rbf;, score=0.851 total time=  12.0s\n",
            "[CV 3/5] END .......C=10, gamma=0.1, kernel=rbf;, score=0.854 total time=  11.7s\n",
            "[CV 4/5] END .......C=10, gamma=0.1, kernel=rbf;, score=0.851 total time=  11.7s\n",
            "[CV 5/5] END .......C=10, gamma=0.1, kernel=rbf;, score=0.854 total time=  11.6s\n",
            "[CV 1/5] END ...C=10, gamma=0.01, kernel=linear;, score=0.837 total time=  10.7s\n",
            "[CV 2/5] END ...C=10, gamma=0.01, kernel=linear;, score=0.826 total time=  10.4s\n",
            "[CV 3/5] END ...C=10, gamma=0.01, kernel=linear;, score=0.833 total time=  10.5s\n",
            "[CV 4/5] END ...C=10, gamma=0.01, kernel=linear;, score=0.834 total time=  10.7s\n",
            "[CV 5/5] END ...C=10, gamma=0.01, kernel=linear;, score=0.825 total time=  10.8s\n",
            "[CV 1/5] END ......C=10, gamma=0.01, kernel=rbf;, score=0.831 total time=  12.8s\n",
            "[CV 2/5] END ......C=10, gamma=0.01, kernel=rbf;, score=0.825 total time=  12.8s\n",
            "[CV 3/5] END ......C=10, gamma=0.01, kernel=rbf;, score=0.828 total time=  12.8s\n",
            "[CV 4/5] END ......C=10, gamma=0.01, kernel=rbf;, score=0.829 total time=  12.7s\n",
            "[CV 5/5] END ......C=10, gamma=0.01, kernel=rbf;, score=0.826 total time=  12.8s\n",
            "{'C': 10, 'gamma': 1, 'kernel': 'rbf'}\n",
            "SVC(C=10, gamma=1)\n",
            "Final model accuracy: 0.84\n"
          ]
        }
      ]
    },
    {
      "cell_type": "code",
      "source": [
        "# This mapping assumes the model outputs string labels directly\n",
        "sentiment_mapping = {'negative': 'negative', 'neutral': 'neutral', 'positive': 'positive'}\n"
      ],
      "metadata": {
        "id": "yoaeXY6EaMWN"
      },
      "execution_count": null,
      "outputs": []
    },
    {
      "cell_type": "code",
      "source": [
        "def classify_review_svm(review, vectorizer, model):\n",
        "    # Vectorize the review using the trained TF-IDF vectorizer\n",
        "    review_vector = vectorizer.transform([review])\n",
        "\n",
        "    # Predict the sentiment using the trained SVM model\n",
        "    sentiment = model.predict(review_vector)\n",
        "\n",
        "    # Check the type of output from the model and prepare mapping accordingly\n",
        "    if isinstance(sentiment[0], str):\n",
        "        sentiment_mapping = {'negative': 'negative', 'neutral': 'neutral', 'positive': 'positive'}\n",
        "    else:\n",
        "        sentiment_mapping = {0: 'negative', 1: 'neutral', 2: 'positive'}\n",
        "\n",
        "    # Return the mapped sentiment text\n",
        "    return sentiment_mapping[sentiment[0]]\n",
        "\n",
        "# Example usage\n",
        "new_review = \"The flight was delayed, but the staff were incredibly helpful.\"\n",
        "svm_sentiment = classify_review_svm(new_review, vectorizer, svm_classifier)\n",
        "print(\"SVM Model Sentiment:\", svm_sentiment)\n"
      ],
      "metadata": {
        "colab": {
          "base_uri": "https://localhost:8080/"
        },
        "id": "zdU8OH2PJ5oj",
        "outputId": "e577c6b8-4114-4e0d-d227-299fc74f5de6"
      },
      "execution_count": null,
      "outputs": [
        {
          "output_type": "stream",
          "name": "stdout",
          "text": [
            "SVM Model Sentiment: positive\n"
          ]
        }
      ]
    },
    {
      "cell_type": "markdown",
      "source": [
        "# BERT"
      ],
      "metadata": {
        "id": "dfbxUOqKpo_K"
      }
    },
    {
      "cell_type": "code",
      "source": [
        "import pandas as pd\n",
        "from transformers import BertTokenizer\n",
        "import tensorflow as tf\n",
        "\n",
        "# Initialize the tokenizer\n",
        "tokenizer = BertTokenizer.from_pretrained('bert-base-uncased')\n",
        "\n",
        "# Tokenization and encoding the dataset\n",
        "def encode_reviews(data, max_length):\n",
        "    input_ids = []\n",
        "    attention_masks = []\n",
        "\n",
        "    for review in data:\n",
        "        encoded = tokenizer.encode_plus(\n",
        "            review,\n",
        "            add_special_tokens=True,\n",
        "            max_length=max_length,\n",
        "            truncation=True,\n",
        "            padding='max_length',\n",
        "            return_attention_mask=True,\n",
        "            return_tensors='tf'\n",
        "        )\n",
        "        input_ids.append(encoded['input_ids'])\n",
        "        attention_masks.append(encoded['attention_mask'])\n",
        "\n",
        "    return tf.concat(input_ids, axis=0), tf.concat(attention_masks, axis=0)\n",
        "\n",
        "max_length = 128  # You can adjust this depending on the length of your reviews\n",
        "X_train_ids, X_train_masks = encode_reviews(data['text'], max_length)\n"
      ],
      "metadata": {
        "id": "N2poeK_F--sl"
      },
      "execution_count": 17,
      "outputs": []
    },
    {
      "cell_type": "code",
      "source": [
        "from sklearn.preprocessing import LabelEncoder\n",
        "\n",
        "# Encode labels\n",
        "label_encoder = LabelEncoder()\n",
        "y_train = label_encoder.fit_transform(data['sentiment'])\n"
      ],
      "metadata": {
        "id": "uc9QXRWN-_b4"
      },
      "execution_count": 18,
      "outputs": []
    },
    {
      "cell_type": "code",
      "source": [
        "from transformers import TFBertForSequenceClassification\n",
        "import tensorflow as tf\n",
        "\n",
        "def build_model(learning_rate, optimizer_choice, hidden_layers, neurons):\n",
        "    # Load BERT model with classification head\n",
        "    model = TFBertForSequenceClassification.from_pretrained('bert-base-uncased', num_labels=3)\n",
        "\n",
        "    # Input layers\n",
        "    input_ids = tf.keras.layers.Input(shape=(max_length,), dtype=tf.int32, name='input_ids')\n",
        "    attention_masks = tf.keras.layers.Input(shape=(max_length,), dtype=tf.int32, name='attention_mask')\n",
        "\n",
        "    # BERT layer\n",
        "    outputs = model.bert(input_ids, attention_mask=attention_masks)\n",
        "\n",
        "    # Additional hidden layers\n",
        "    x = outputs[1]\n",
        "    for _ in range(hidden_layers):\n",
        "        x = tf.keras.layers.Dense(neurons, activation='relu')(x)\n",
        "\n",
        "    # Output layer\n",
        "    classifier = tf.keras.layers.Dense(3, activation='softmax')(x)\n",
        "\n",
        "    # Assemble final model\n",
        "    final_model = tf.keras.Model(inputs=[input_ids, attention_masks], outputs=classifier)\n",
        "\n",
        "    # Optimizer selection\n",
        "    if optimizer_choice == 'adam':\n",
        "        optimizer = tf.keras.optimizers.Adam(learning_rate=learning_rate)\n",
        "    elif optimizer_choice == 'rmsprop':\n",
        "        optimizer = tf.keras.optimizers.RMSprop(learning_rate=learning_rate)\n",
        "    elif optimizer_choice == 'sgd':\n",
        "        optimizer = tf.keras.optimizers.SGD(learning_rate=learning_rate)\n",
        "\n",
        "    # Compile the model\n",
        "    final_model.compile(optimizer=optimizer, loss='sparse_categorical_crossentropy', metrics=['accuracy'])\n",
        "\n",
        "    return final_model\n"
      ],
      "metadata": {
        "id": "hwIRvRizscL_"
      },
      "execution_count": 19,
      "outputs": []
    },
    {
      "cell_type": "code",
      "source": [
        "import numpy as np\n",
        "\n",
        "# Hyperparameters space definition\n",
        "learning_rates = [0.001, 0.01]\n",
        "optimizers = ['adam', 'rmsprop', 'sgd']\n",
        "hidden_layers_options = [1, 3, 5]\n",
        "neurons_options = [50, 500]\n",
        "\n",
        "# Placeholder for storing results\n",
        "results = []\n",
        "\n",
        "# Grid search\n",
        "for lr in learning_rates:\n",
        "    for optimizer in optimizers:\n",
        "        for hidden_layers in hidden_layers_options:\n",
        "            for neurons in neurons_options:\n",
        "                print(f\"Training with lr={lr}, optimizer={optimizer}, hidden_layers={hidden_layers}, neurons={neurons}\")\n",
        "                model = build_model(lr, optimizer, hidden_layers, neurons)\n",
        "                history = model.fit(\n",
        "                    {'input_ids': X_train_ids, 'attention_mask': X_train_masks},\n",
        "                    y_train,\n",
        "                    validation_split=0.1,  # Using part of the training data as validation\n",
        "                    batch_size=16,\n",
        "                    epochs=3,\n",
        "                    verbose=1\n",
        "                )\n",
        "                val_accuracy = np.max(history.history['val_accuracy'])\n",
        "                results.append((lr, optimizer, hidden_layers, neurons, val_accuracy))\n",
        "\n",
        "# Find the best configuration\n",
        "best_config = max(results, key=lambda x: x[4])\n",
        "print(\"Best configuration:\", best_config)"
      ],
      "metadata": {
        "colab": {
          "base_uri": "https://localhost:8080/"
        },
        "id": "0cNn194G95j5",
        "outputId": "2c4857e7-4570-4065-d2dc-f338539856ea"
      },
      "execution_count": 20,
      "outputs": [
        {
          "output_type": "stream",
          "name": "stdout",
          "text": [
            "Training with lr=0.001, optimizer=adam, hidden_layers=1, neurons=50\n"
          ]
        },
        {
          "output_type": "stream",
          "name": "stderr",
          "text": [
            "All PyTorch model weights were used when initializing TFBertForSequenceClassification.\n",
            "\n",
            "Some weights or buffers of the TF 2.0 model TFBertForSequenceClassification were not initialized from the PyTorch model and are newly initialized: ['classifier.weight', 'classifier.bias']\n",
            "You should probably TRAIN this model on a down-stream task to be able to use it for predictions and inference.\n"
          ]
        },
        {
          "output_type": "stream",
          "name": "stdout",
          "text": [
            "Epoch 1/3\n",
            "563/563 [==============================] - 177s 195ms/step - loss: 0.8009 - accuracy: 0.7249 - val_loss: 0.5848 - val_accuracy: 0.8360\n",
            "Epoch 2/3\n",
            "563/563 [==============================] - 92s 164ms/step - loss: 0.7748 - accuracy: 0.7283 - val_loss: 0.6035 - val_accuracy: 0.8360\n",
            "Epoch 3/3\n",
            "563/563 [==============================] - 92s 164ms/step - loss: 0.7704 - accuracy: 0.7283 - val_loss: 0.6403 - val_accuracy: 0.8360\n",
            "Training with lr=0.001, optimizer=adam, hidden_layers=1, neurons=500\n"
          ]
        },
        {
          "output_type": "stream",
          "name": "stderr",
          "text": [
            "All PyTorch model weights were used when initializing TFBertForSequenceClassification.\n",
            "\n",
            "Some weights or buffers of the TF 2.0 model TFBertForSequenceClassification were not initialized from the PyTorch model and are newly initialized: ['classifier.weight', 'classifier.bias']\n",
            "You should probably TRAIN this model on a down-stream task to be able to use it for predictions and inference.\n"
          ]
        },
        {
          "output_type": "stream",
          "name": "stdout",
          "text": [
            "Epoch 1/3\n",
            "563/563 [==============================] - 164s 195ms/step - loss: 0.8397 - accuracy: 0.7194 - val_loss: 0.7003 - val_accuracy: 0.8360\n",
            "Epoch 2/3\n",
            "563/563 [==============================] - 93s 165ms/step - loss: 0.7725 - accuracy: 0.7283 - val_loss: 0.6124 - val_accuracy: 0.8360\n",
            "Epoch 3/3\n",
            "563/563 [==============================] - 91s 162ms/step - loss: 0.7710 - accuracy: 0.7283 - val_loss: 0.6031 - val_accuracy: 0.8360\n",
            "Training with lr=0.001, optimizer=adam, hidden_layers=3, neurons=50\n"
          ]
        },
        {
          "output_type": "stream",
          "name": "stderr",
          "text": [
            "All PyTorch model weights were used when initializing TFBertForSequenceClassification.\n",
            "\n",
            "Some weights or buffers of the TF 2.0 model TFBertForSequenceClassification were not initialized from the PyTorch model and are newly initialized: ['classifier.weight', 'classifier.bias']\n",
            "You should probably TRAIN this model on a down-stream task to be able to use it for predictions and inference.\n"
          ]
        },
        {
          "output_type": "stream",
          "name": "stdout",
          "text": [
            "Epoch 1/3\n",
            "563/563 [==============================] - 166s 195ms/step - loss: 0.7828 - accuracy: 0.7252 - val_loss: 0.6032 - val_accuracy: 0.8360\n",
            "Epoch 2/3\n",
            "563/563 [==============================] - 93s 165ms/step - loss: 0.7712 - accuracy: 0.7283 - val_loss: 0.6079 - val_accuracy: 0.8360\n",
            "Epoch 3/3\n",
            "563/563 [==============================] - 92s 163ms/step - loss: 0.7736 - accuracy: 0.7283 - val_loss: 0.6089 - val_accuracy: 0.8360\n",
            "Training with lr=0.001, optimizer=adam, hidden_layers=3, neurons=500\n"
          ]
        },
        {
          "output_type": "stream",
          "name": "stderr",
          "text": [
            "All PyTorch model weights were used when initializing TFBertForSequenceClassification.\n",
            "\n",
            "Some weights or buffers of the TF 2.0 model TFBertForSequenceClassification were not initialized from the PyTorch model and are newly initialized: ['classifier.weight', 'classifier.bias']\n",
            "You should probably TRAIN this model on a down-stream task to be able to use it for predictions and inference.\n"
          ]
        },
        {
          "output_type": "stream",
          "name": "stdout",
          "text": [
            "Epoch 1/3\n",
            "563/563 [==============================] - 167s 197ms/step - loss: 0.8000 - accuracy: 0.7229 - val_loss: 0.6106 - val_accuracy: 0.8360\n",
            "Epoch 2/3\n",
            "563/563 [==============================] - 93s 165ms/step - loss: 0.7743 - accuracy: 0.7283 - val_loss: 0.6114 - val_accuracy: 0.8360\n",
            "Epoch 3/3\n",
            "563/563 [==============================] - 92s 163ms/step - loss: 0.7709 - accuracy: 0.7283 - val_loss: 0.6073 - val_accuracy: 0.8360\n",
            "Training with lr=0.001, optimizer=adam, hidden_layers=5, neurons=50\n"
          ]
        },
        {
          "output_type": "stream",
          "name": "stderr",
          "text": [
            "All PyTorch model weights were used when initializing TFBertForSequenceClassification.\n",
            "\n",
            "Some weights or buffers of the TF 2.0 model TFBertForSequenceClassification were not initialized from the PyTorch model and are newly initialized: ['classifier.weight', 'classifier.bias']\n",
            "You should probably TRAIN this model on a down-stream task to be able to use it for predictions and inference.\n"
          ]
        },
        {
          "output_type": "stream",
          "name": "stdout",
          "text": [
            "Epoch 1/3\n",
            "563/563 [==============================] - 169s 198ms/step - loss: 0.7816 - accuracy: 0.7283 - val_loss: 0.6054 - val_accuracy: 0.8360\n",
            "Epoch 2/3\n",
            "563/563 [==============================] - 93s 166ms/step - loss: 0.7720 - accuracy: 0.7283 - val_loss: 0.5955 - val_accuracy: 0.8360\n",
            "Epoch 3/3\n",
            "563/563 [==============================] - 93s 165ms/step - loss: 0.7711 - accuracy: 0.7283 - val_loss: 0.6640 - val_accuracy: 0.8360\n",
            "Training with lr=0.001, optimizer=adam, hidden_layers=5, neurons=500\n"
          ]
        },
        {
          "output_type": "stream",
          "name": "stderr",
          "text": [
            "All PyTorch model weights were used when initializing TFBertForSequenceClassification.\n",
            "\n",
            "Some weights or buffers of the TF 2.0 model TFBertForSequenceClassification were not initialized from the PyTorch model and are newly initialized: ['classifier.weight', 'classifier.bias']\n",
            "You should probably TRAIN this model on a down-stream task to be able to use it for predictions and inference.\n"
          ]
        },
        {
          "output_type": "stream",
          "name": "stdout",
          "text": [
            "Epoch 1/3\n",
            "563/563 [==============================] - 168s 197ms/step - loss: 0.7915 - accuracy: 0.7257 - val_loss: 0.5812 - val_accuracy: 0.8360\n",
            "Epoch 2/3\n",
            "563/563 [==============================] - 94s 166ms/step - loss: 0.7742 - accuracy: 0.7283 - val_loss: 0.5928 - val_accuracy: 0.8360\n",
            "Epoch 3/3\n",
            "563/563 [==============================] - 92s 164ms/step - loss: 0.7666 - accuracy: 0.7283 - val_loss: 0.6191 - val_accuracy: 0.8360\n",
            "Training with lr=0.001, optimizer=rmsprop, hidden_layers=1, neurons=50\n"
          ]
        },
        {
          "output_type": "stream",
          "name": "stderr",
          "text": [
            "All PyTorch model weights were used when initializing TFBertForSequenceClassification.\n",
            "\n",
            "Some weights or buffers of the TF 2.0 model TFBertForSequenceClassification were not initialized from the PyTorch model and are newly initialized: ['classifier.weight', 'classifier.bias']\n",
            "You should probably TRAIN this model on a down-stream task to be able to use it for predictions and inference.\n"
          ]
        },
        {
          "output_type": "stream",
          "name": "stdout",
          "text": [
            "Epoch 1/3\n",
            "563/563 [==============================] - 146s 176ms/step - loss: 0.7994 - accuracy: 0.7254 - val_loss: 0.6034 - val_accuracy: 0.8360\n",
            "Epoch 2/3\n",
            "563/563 [==============================] - 88s 157ms/step - loss: 0.7726 - accuracy: 0.7283 - val_loss: 0.6267 - val_accuracy: 0.8360\n",
            "Epoch 3/3\n",
            "563/563 [==============================] - 88s 157ms/step - loss: 0.7712 - accuracy: 0.7283 - val_loss: 0.6005 - val_accuracy: 0.8360\n",
            "Training with lr=0.001, optimizer=rmsprop, hidden_layers=1, neurons=500\n"
          ]
        },
        {
          "output_type": "stream",
          "name": "stderr",
          "text": [
            "All PyTorch model weights were used when initializing TFBertForSequenceClassification.\n",
            "\n",
            "Some weights or buffers of the TF 2.0 model TFBertForSequenceClassification were not initialized from the PyTorch model and are newly initialized: ['classifier.weight', 'classifier.bias']\n",
            "You should probably TRAIN this model on a down-stream task to be able to use it for predictions and inference.\n"
          ]
        },
        {
          "output_type": "stream",
          "name": "stdout",
          "text": [
            "Epoch 1/3\n",
            "563/563 [==============================] - 145s 176ms/step - loss: 0.8970 - accuracy: 0.7000 - val_loss: 0.6649 - val_accuracy: 0.8360\n",
            "Epoch 2/3\n",
            "563/563 [==============================] - 89s 157ms/step - loss: 0.8191 - accuracy: 0.7259 - val_loss: 0.5853 - val_accuracy: 0.8360\n",
            "Epoch 3/3\n",
            "563/563 [==============================] - 88s 156ms/step - loss: 0.7759 - accuracy: 0.7280 - val_loss: 0.6160 - val_accuracy: 0.8360\n",
            "Training with lr=0.001, optimizer=rmsprop, hidden_layers=3, neurons=50\n"
          ]
        },
        {
          "output_type": "stream",
          "name": "stderr",
          "text": [
            "All PyTorch model weights were used when initializing TFBertForSequenceClassification.\n",
            "\n",
            "Some weights or buffers of the TF 2.0 model TFBertForSequenceClassification were not initialized from the PyTorch model and are newly initialized: ['classifier.weight', 'classifier.bias']\n",
            "You should probably TRAIN this model on a down-stream task to be able to use it for predictions and inference.\n"
          ]
        },
        {
          "output_type": "stream",
          "name": "stdout",
          "text": [
            "Epoch 1/3\n",
            "563/563 [==============================] - 146s 177ms/step - loss: 0.7841 - accuracy: 0.7229 - val_loss: 0.6263 - val_accuracy: 0.8360\n",
            "Epoch 2/3\n",
            "563/563 [==============================] - 89s 158ms/step - loss: 0.7737 - accuracy: 0.7283 - val_loss: 0.5842 - val_accuracy: 0.8360\n",
            "Epoch 3/3\n",
            "563/563 [==============================] - 88s 157ms/step - loss: 0.7714 - accuracy: 0.7283 - val_loss: 0.5830 - val_accuracy: 0.8360\n",
            "Training with lr=0.001, optimizer=rmsprop, hidden_layers=3, neurons=500\n"
          ]
        },
        {
          "output_type": "stream",
          "name": "stderr",
          "text": [
            "All PyTorch model weights were used when initializing TFBertForSequenceClassification.\n",
            "\n",
            "Some weights or buffers of the TF 2.0 model TFBertForSequenceClassification were not initialized from the PyTorch model and are newly initialized: ['classifier.weight', 'classifier.bias']\n",
            "You should probably TRAIN this model on a down-stream task to be able to use it for predictions and inference.\n"
          ]
        },
        {
          "output_type": "stream",
          "name": "stdout",
          "text": [
            "Epoch 1/3\n",
            "563/563 [==============================] - 147s 177ms/step - loss: 0.8246 - accuracy: 0.7236 - val_loss: 0.7285 - val_accuracy: 0.8360\n",
            "Epoch 2/3\n",
            "563/563 [==============================] - 89s 158ms/step - loss: 0.7780 - accuracy: 0.7283 - val_loss: 0.5948 - val_accuracy: 0.8360\n",
            "Epoch 3/3\n",
            "563/563 [==============================] - 89s 157ms/step - loss: 0.7710 - accuracy: 0.7283 - val_loss: 0.6262 - val_accuracy: 0.8360\n",
            "Training with lr=0.001, optimizer=rmsprop, hidden_layers=5, neurons=50\n"
          ]
        },
        {
          "output_type": "stream",
          "name": "stderr",
          "text": [
            "All PyTorch model weights were used when initializing TFBertForSequenceClassification.\n",
            "\n",
            "Some weights or buffers of the TF 2.0 model TFBertForSequenceClassification were not initialized from the PyTorch model and are newly initialized: ['classifier.weight', 'classifier.bias']\n",
            "You should probably TRAIN this model on a down-stream task to be able to use it for predictions and inference.\n"
          ]
        },
        {
          "output_type": "stream",
          "name": "stdout",
          "text": [
            "Epoch 1/3\n",
            "563/563 [==============================] - 147s 178ms/step - loss: 0.7801 - accuracy: 0.7261 - val_loss: 0.6121 - val_accuracy: 0.8360\n",
            "Epoch 2/3\n",
            "563/563 [==============================] - 89s 158ms/step - loss: 0.7713 - accuracy: 0.7283 - val_loss: 0.5819 - val_accuracy: 0.8360\n",
            "Epoch 3/3\n",
            "563/563 [==============================] - 89s 158ms/step - loss: 0.7725 - accuracy: 0.7283 - val_loss: 0.6096 - val_accuracy: 0.8360\n",
            "Training with lr=0.001, optimizer=rmsprop, hidden_layers=5, neurons=500\n"
          ]
        },
        {
          "output_type": "stream",
          "name": "stderr",
          "text": [
            "All PyTorch model weights were used when initializing TFBertForSequenceClassification.\n",
            "\n",
            "Some weights or buffers of the TF 2.0 model TFBertForSequenceClassification were not initialized from the PyTorch model and are newly initialized: ['classifier.weight', 'classifier.bias']\n",
            "You should probably TRAIN this model on a down-stream task to be able to use it for predictions and inference.\n"
          ]
        },
        {
          "output_type": "stream",
          "name": "stdout",
          "text": [
            "Epoch 1/3\n",
            "563/563 [==============================] - 148s 179ms/step - loss: 0.7967 - accuracy: 0.7266 - val_loss: 0.6047 - val_accuracy: 0.8360\n",
            "Epoch 2/3\n",
            "563/563 [==============================] - 89s 158ms/step - loss: 0.7718 - accuracy: 0.7283 - val_loss: 0.6066 - val_accuracy: 0.8360\n",
            "Epoch 3/3\n",
            "563/563 [==============================] - 89s 157ms/step - loss: 0.7678 - accuracy: 0.7283 - val_loss: 0.6258 - val_accuracy: 0.8360\n",
            "Training with lr=0.001, optimizer=sgd, hidden_layers=1, neurons=50\n"
          ]
        },
        {
          "output_type": "stream",
          "name": "stderr",
          "text": [
            "All PyTorch model weights were used when initializing TFBertForSequenceClassification.\n",
            "\n",
            "Some weights or buffers of the TF 2.0 model TFBertForSequenceClassification were not initialized from the PyTorch model and are newly initialized: ['classifier.weight', 'classifier.bias']\n",
            "You should probably TRAIN this model on a down-stream task to be able to use it for predictions and inference.\n"
          ]
        },
        {
          "output_type": "stream",
          "name": "stdout",
          "text": [
            "Epoch 1/3\n",
            "563/563 [==============================] - 142s 175ms/step - loss: 0.5399 - accuracy: 0.7950 - val_loss: 0.3683 - val_accuracy: 0.8520\n",
            "Epoch 2/3\n",
            "563/563 [==============================] - 88s 157ms/step - loss: 0.3699 - accuracy: 0.8537 - val_loss: 0.3821 - val_accuracy: 0.8480\n",
            "Epoch 3/3\n",
            "563/563 [==============================] - 88s 157ms/step - loss: 0.3374 - accuracy: 0.8659 - val_loss: 0.3002 - val_accuracy: 0.8920\n",
            "Training with lr=0.001, optimizer=sgd, hidden_layers=1, neurons=500\n"
          ]
        },
        {
          "output_type": "stream",
          "name": "stderr",
          "text": [
            "All PyTorch model weights were used when initializing TFBertForSequenceClassification.\n",
            "\n",
            "Some weights or buffers of the TF 2.0 model TFBertForSequenceClassification were not initialized from the PyTorch model and are newly initialized: ['classifier.weight', 'classifier.bias']\n",
            "You should probably TRAIN this model on a down-stream task to be able to use it for predictions and inference.\n"
          ]
        },
        {
          "output_type": "stream",
          "name": "stdout",
          "text": [
            "Epoch 1/3\n",
            "563/563 [==============================] - 141s 180ms/step - loss: 0.4968 - accuracy: 0.8079 - val_loss: 0.3116 - val_accuracy: 0.8740\n",
            "Epoch 2/3\n",
            "563/563 [==============================] - 88s 156ms/step - loss: 0.3618 - accuracy: 0.8586 - val_loss: 0.3113 - val_accuracy: 0.8860\n",
            "Epoch 3/3\n",
            "563/563 [==============================] - 88s 156ms/step - loss: 0.3329 - accuracy: 0.8696 - val_loss: 0.2956 - val_accuracy: 0.8840\n",
            "Training with lr=0.001, optimizer=sgd, hidden_layers=3, neurons=50\n"
          ]
        },
        {
          "output_type": "stream",
          "name": "stderr",
          "text": [
            "All PyTorch model weights were used when initializing TFBertForSequenceClassification.\n",
            "\n",
            "Some weights or buffers of the TF 2.0 model TFBertForSequenceClassification were not initialized from the PyTorch model and are newly initialized: ['classifier.weight', 'classifier.bias']\n",
            "You should probably TRAIN this model on a down-stream task to be able to use it for predictions and inference.\n"
          ]
        },
        {
          "output_type": "stream",
          "name": "stdout",
          "text": [
            "Epoch 1/3\n",
            "563/563 [==============================] - 141s 179ms/step - loss: 0.5967 - accuracy: 0.7767 - val_loss: 0.3694 - val_accuracy: 0.8430\n",
            "Epoch 2/3\n",
            "563/563 [==============================] - 88s 157ms/step - loss: 0.3968 - accuracy: 0.8452 - val_loss: 0.3310 - val_accuracy: 0.8440\n",
            "Epoch 3/3\n",
            "563/563 [==============================] - 88s 157ms/step - loss: 0.3530 - accuracy: 0.8600 - val_loss: 0.3030 - val_accuracy: 0.8700\n",
            "Training with lr=0.001, optimizer=sgd, hidden_layers=3, neurons=500\n"
          ]
        },
        {
          "output_type": "stream",
          "name": "stderr",
          "text": [
            "All PyTorch model weights were used when initializing TFBertForSequenceClassification.\n",
            "\n",
            "Some weights or buffers of the TF 2.0 model TFBertForSequenceClassification were not initialized from the PyTorch model and are newly initialized: ['classifier.weight', 'classifier.bias']\n",
            "You should probably TRAIN this model on a down-stream task to be able to use it for predictions and inference.\n"
          ]
        },
        {
          "output_type": "stream",
          "name": "stdout",
          "text": [
            "Epoch 1/3\n",
            "563/563 [==============================] - 141s 175ms/step - loss: 0.5705 - accuracy: 0.7844 - val_loss: 0.3347 - val_accuracy: 0.8580\n",
            "Epoch 2/3\n",
            "563/563 [==============================] - 89s 158ms/step - loss: 0.3799 - accuracy: 0.8507 - val_loss: 0.3293 - val_accuracy: 0.8840\n",
            "Epoch 3/3\n",
            "563/563 [==============================] - 89s 158ms/step - loss: 0.3410 - accuracy: 0.8667 - val_loss: 0.3208 - val_accuracy: 0.8730\n",
            "Training with lr=0.001, optimizer=sgd, hidden_layers=5, neurons=50\n"
          ]
        },
        {
          "output_type": "stream",
          "name": "stderr",
          "text": [
            "All PyTorch model weights were used when initializing TFBertForSequenceClassification.\n",
            "\n",
            "Some weights or buffers of the TF 2.0 model TFBertForSequenceClassification were not initialized from the PyTorch model and are newly initialized: ['classifier.weight', 'classifier.bias']\n",
            "You should probably TRAIN this model on a down-stream task to be able to use it for predictions and inference.\n"
          ]
        },
        {
          "output_type": "stream",
          "name": "stdout",
          "text": [
            "Epoch 1/3\n",
            "563/563 [==============================] - 147s 183ms/step - loss: 0.7035 - accuracy: 0.7468 - val_loss: 0.4009 - val_accuracy: 0.8180\n",
            "Epoch 2/3\n",
            "563/563 [==============================] - 89s 158ms/step - loss: 0.4342 - accuracy: 0.8378 - val_loss: 0.3263 - val_accuracy: 0.8660\n",
            "Epoch 3/3\n",
            "563/563 [==============================] - 89s 158ms/step - loss: 0.3807 - accuracy: 0.8523 - val_loss: 0.3380 - val_accuracy: 0.8530\n",
            "Training with lr=0.001, optimizer=sgd, hidden_layers=5, neurons=500\n"
          ]
        },
        {
          "output_type": "stream",
          "name": "stderr",
          "text": [
            "All PyTorch model weights were used when initializing TFBertForSequenceClassification.\n",
            "\n",
            "Some weights or buffers of the TF 2.0 model TFBertForSequenceClassification were not initialized from the PyTorch model and are newly initialized: ['classifier.weight', 'classifier.bias']\n",
            "You should probably TRAIN this model on a down-stream task to be able to use it for predictions and inference.\n"
          ]
        },
        {
          "output_type": "stream",
          "name": "stdout",
          "text": [
            "Epoch 1/3\n",
            "563/563 [==============================] - 143s 180ms/step - loss: 0.6640 - accuracy: 0.7363 - val_loss: 0.4154 - val_accuracy: 0.8020\n",
            "Epoch 2/3\n",
            "563/563 [==============================] - 89s 158ms/step - loss: 0.4161 - accuracy: 0.8419 - val_loss: 0.3250 - val_accuracy: 0.8680\n",
            "Epoch 3/3\n",
            "563/563 [==============================] - 89s 158ms/step - loss: 0.3677 - accuracy: 0.8547 - val_loss: 0.3041 - val_accuracy: 0.8760\n",
            "Training with lr=0.01, optimizer=adam, hidden_layers=1, neurons=50\n"
          ]
        },
        {
          "output_type": "stream",
          "name": "stderr",
          "text": [
            "All PyTorch model weights were used when initializing TFBertForSequenceClassification.\n",
            "\n",
            "Some weights or buffers of the TF 2.0 model TFBertForSequenceClassification were not initialized from the PyTorch model and are newly initialized: ['classifier.weight', 'classifier.bias']\n",
            "You should probably TRAIN this model on a down-stream task to be able to use it for predictions and inference.\n"
          ]
        },
        {
          "output_type": "stream",
          "name": "stdout",
          "text": [
            "Epoch 1/3\n",
            "563/563 [==============================] - 171s 199ms/step - loss: 0.9233 - accuracy: 0.7050 - val_loss: 0.6008 - val_accuracy: 0.8360\n",
            "Epoch 2/3\n",
            "563/563 [==============================] - 94s 166ms/step - loss: 0.7769 - accuracy: 0.7283 - val_loss: 0.6361 - val_accuracy: 0.8360\n",
            "Epoch 3/3\n",
            "563/563 [==============================] - 92s 164ms/step - loss: 0.7680 - accuracy: 0.7283 - val_loss: 0.6089 - val_accuracy: 0.8360\n",
            "Training with lr=0.01, optimizer=adam, hidden_layers=1, neurons=500\n"
          ]
        },
        {
          "output_type": "stream",
          "name": "stderr",
          "text": [
            "All PyTorch model weights were used when initializing TFBertForSequenceClassification.\n",
            "\n",
            "Some weights or buffers of the TF 2.0 model TFBertForSequenceClassification were not initialized from the PyTorch model and are newly initialized: ['classifier.weight', 'classifier.bias']\n",
            "You should probably TRAIN this model on a down-stream task to be able to use it for predictions and inference.\n"
          ]
        },
        {
          "output_type": "stream",
          "name": "stdout",
          "text": [
            "Epoch 1/3\n",
            "563/563 [==============================] - 170s 199ms/step - loss: 0.9124 - accuracy: 0.7220 - val_loss: 0.6394 - val_accuracy: 0.8360\n",
            "Epoch 2/3\n",
            "563/563 [==============================] - 93s 166ms/step - loss: 0.7671 - accuracy: 0.7283 - val_loss: 0.6021 - val_accuracy: 0.8360\n",
            "Epoch 3/3\n",
            "563/563 [==============================] - 92s 164ms/step - loss: 0.7650 - accuracy: 0.7283 - val_loss: 0.5942 - val_accuracy: 0.8360\n",
            "Training with lr=0.01, optimizer=adam, hidden_layers=3, neurons=50\n"
          ]
        },
        {
          "output_type": "stream",
          "name": "stderr",
          "text": [
            "All PyTorch model weights were used when initializing TFBertForSequenceClassification.\n",
            "\n",
            "Some weights or buffers of the TF 2.0 model TFBertForSequenceClassification were not initialized from the PyTorch model and are newly initialized: ['classifier.weight', 'classifier.bias']\n",
            "You should probably TRAIN this model on a down-stream task to be able to use it for predictions and inference.\n"
          ]
        },
        {
          "output_type": "stream",
          "name": "stdout",
          "text": [
            "Epoch 1/3\n",
            "563/563 [==============================] - 173s 200ms/step - loss: 0.8025 - accuracy: 0.7247 - val_loss: 0.6161 - val_accuracy: 0.8360\n",
            "Epoch 2/3\n",
            "563/563 [==============================] - 94s 166ms/step - loss: 0.7667 - accuracy: 0.7283 - val_loss: 0.6021 - val_accuracy: 0.8360\n",
            "Epoch 3/3\n",
            "563/563 [==============================] - 92s 164ms/step - loss: 0.7666 - accuracy: 0.7283 - val_loss: 0.6141 - val_accuracy: 0.8360\n",
            "Training with lr=0.01, optimizer=adam, hidden_layers=3, neurons=500\n"
          ]
        },
        {
          "output_type": "stream",
          "name": "stderr",
          "text": [
            "All PyTorch model weights were used when initializing TFBertForSequenceClassification.\n",
            "\n",
            "Some weights or buffers of the TF 2.0 model TFBertForSequenceClassification were not initialized from the PyTorch model and are newly initialized: ['classifier.weight', 'classifier.bias']\n",
            "You should probably TRAIN this model on a down-stream task to be able to use it for predictions and inference.\n"
          ]
        },
        {
          "output_type": "stream",
          "name": "stdout",
          "text": [
            "Epoch 1/3\n",
            "563/563 [==============================] - 169s 199ms/step - loss: 1.0001 - accuracy: 0.7233 - val_loss: 0.5940 - val_accuracy: 0.8360\n",
            "Epoch 2/3\n",
            "563/563 [==============================] - 94s 166ms/step - loss: 0.7676 - accuracy: 0.7283 - val_loss: 0.6273 - val_accuracy: 0.8360\n",
            "Epoch 3/3\n",
            "563/563 [==============================] - 92s 164ms/step - loss: 0.7667 - accuracy: 0.7283 - val_loss: 0.6105 - val_accuracy: 0.8360\n",
            "Training with lr=0.01, optimizer=adam, hidden_layers=5, neurons=50\n"
          ]
        },
        {
          "output_type": "stream",
          "name": "stderr",
          "text": [
            "All PyTorch model weights were used when initializing TFBertForSequenceClassification.\n",
            "\n",
            "Some weights or buffers of the TF 2.0 model TFBertForSequenceClassification were not initialized from the PyTorch model and are newly initialized: ['classifier.weight', 'classifier.bias']\n",
            "You should probably TRAIN this model on a down-stream task to be able to use it for predictions and inference.\n"
          ]
        },
        {
          "output_type": "stream",
          "name": "stdout",
          "text": [
            "Epoch 1/3\n",
            "563/563 [==============================] - 171s 199ms/step - loss: 0.7832 - accuracy: 0.7272 - val_loss: 0.6017 - val_accuracy: 0.8360\n",
            "Epoch 2/3\n",
            "563/563 [==============================] - 94s 166ms/step - loss: 0.7679 - accuracy: 0.7283 - val_loss: 0.6031 - val_accuracy: 0.8360\n",
            "Epoch 3/3\n",
            "563/563 [==============================] - 93s 165ms/step - loss: 0.7672 - accuracy: 0.7283 - val_loss: 0.6052 - val_accuracy: 0.8360\n",
            "Training with lr=0.01, optimizer=adam, hidden_layers=5, neurons=500\n"
          ]
        },
        {
          "output_type": "stream",
          "name": "stderr",
          "text": [
            "All PyTorch model weights were used when initializing TFBertForSequenceClassification.\n",
            "\n",
            "Some weights or buffers of the TF 2.0 model TFBertForSequenceClassification were not initialized from the PyTorch model and are newly initialized: ['classifier.weight', 'classifier.bias']\n",
            "You should probably TRAIN this model on a down-stream task to be able to use it for predictions and inference.\n"
          ]
        },
        {
          "output_type": "stream",
          "name": "stdout",
          "text": [
            "Epoch 1/3\n",
            "563/563 [==============================] - 171s 199ms/step - loss: 1.0043 - accuracy: 0.7182 - val_loss: 0.6045 - val_accuracy: 0.8360\n",
            "Epoch 2/3\n",
            "563/563 [==============================] - 94s 167ms/step - loss: 0.7666 - accuracy: 0.7283 - val_loss: 0.5974 - val_accuracy: 0.8360\n",
            "Epoch 3/3\n",
            "563/563 [==============================] - 92s 164ms/step - loss: 0.7673 - accuracy: 0.7283 - val_loss: 0.6023 - val_accuracy: 0.8360\n",
            "Training with lr=0.01, optimizer=rmsprop, hidden_layers=1, neurons=50\n"
          ]
        },
        {
          "output_type": "stream",
          "name": "stderr",
          "text": [
            "All PyTorch model weights were used when initializing TFBertForSequenceClassification.\n",
            "\n",
            "Some weights or buffers of the TF 2.0 model TFBertForSequenceClassification were not initialized from the PyTorch model and are newly initialized: ['classifier.weight', 'classifier.bias']\n",
            "You should probably TRAIN this model on a down-stream task to be able to use it for predictions and inference.\n"
          ]
        },
        {
          "output_type": "stream",
          "name": "stdout",
          "text": [
            "Epoch 1/3\n",
            "563/563 [==============================] - 150s 179ms/step - loss: 0.9417 - accuracy: 0.7203 - val_loss: 0.5965 - val_accuracy: 0.8360\n",
            "Epoch 2/3\n",
            "563/563 [==============================] - 89s 158ms/step - loss: 0.7654 - accuracy: 0.7283 - val_loss: 0.5905 - val_accuracy: 0.8360\n",
            "Epoch 3/3\n",
            "563/563 [==============================] - 89s 157ms/step - loss: 0.7650 - accuracy: 0.7283 - val_loss: 0.6011 - val_accuracy: 0.8360\n",
            "Training with lr=0.01, optimizer=rmsprop, hidden_layers=1, neurons=500\n"
          ]
        },
        {
          "output_type": "stream",
          "name": "stderr",
          "text": [
            "All PyTorch model weights were used when initializing TFBertForSequenceClassification.\n",
            "\n",
            "Some weights or buffers of the TF 2.0 model TFBertForSequenceClassification were not initialized from the PyTorch model and are newly initialized: ['classifier.weight', 'classifier.bias']\n",
            "You should probably TRAIN this model on a down-stream task to be able to use it for predictions and inference.\n"
          ]
        },
        {
          "output_type": "stream",
          "name": "stdout",
          "text": [
            "Epoch 1/3\n",
            "563/563 [==============================] - 149s 180ms/step - loss: 1.0489 - accuracy: 0.7251 - val_loss: 0.5936 - val_accuracy: 0.8360\n",
            "Epoch 2/3\n",
            "563/563 [==============================] - 89s 158ms/step - loss: 0.7655 - accuracy: 0.7283 - val_loss: 0.6035 - val_accuracy: 0.8360\n",
            "Epoch 3/3\n",
            "563/563 [==============================] - 88s 156ms/step - loss: 0.7654 - accuracy: 0.7283 - val_loss: 0.6167 - val_accuracy: 0.8360\n",
            "Training with lr=0.01, optimizer=rmsprop, hidden_layers=3, neurons=50\n"
          ]
        },
        {
          "output_type": "stream",
          "name": "stderr",
          "text": [
            "All PyTorch model weights were used when initializing TFBertForSequenceClassification.\n",
            "\n",
            "Some weights or buffers of the TF 2.0 model TFBertForSequenceClassification were not initialized from the PyTorch model and are newly initialized: ['classifier.weight', 'classifier.bias']\n",
            "You should probably TRAIN this model on a down-stream task to be able to use it for predictions and inference.\n"
          ]
        },
        {
          "output_type": "stream",
          "name": "stdout",
          "text": [
            "Epoch 1/3\n",
            "563/563 [==============================] - 152s 178ms/step - loss: 0.8413 - accuracy: 0.7263 - val_loss: 0.6173 - val_accuracy: 0.8360\n",
            "Epoch 2/3\n",
            "563/563 [==============================] - 89s 158ms/step - loss: 0.7676 - accuracy: 0.7283 - val_loss: 0.6244 - val_accuracy: 0.8360\n",
            "Epoch 3/3\n",
            "563/563 [==============================] - 88s 157ms/step - loss: 0.7672 - accuracy: 0.7283 - val_loss: 0.5994 - val_accuracy: 0.8360\n",
            "Training with lr=0.01, optimizer=rmsprop, hidden_layers=3, neurons=500\n"
          ]
        },
        {
          "output_type": "stream",
          "name": "stderr",
          "text": [
            "All PyTorch model weights were used when initializing TFBertForSequenceClassification.\n",
            "\n",
            "Some weights or buffers of the TF 2.0 model TFBertForSequenceClassification were not initialized from the PyTorch model and are newly initialized: ['classifier.weight', 'classifier.bias']\n",
            "You should probably TRAIN this model on a down-stream task to be able to use it for predictions and inference.\n"
          ]
        },
        {
          "output_type": "stream",
          "name": "stdout",
          "text": [
            "Epoch 1/3\n",
            "563/563 [==============================] - 149s 185ms/step - loss: 3.1098 - accuracy: 0.7227 - val_loss: 0.5924 - val_accuracy: 0.8360\n",
            "Epoch 2/3\n",
            "563/563 [==============================] - 89s 158ms/step - loss: 0.7687 - accuracy: 0.7283 - val_loss: 0.6013 - val_accuracy: 0.8360\n",
            "Epoch 3/3\n",
            "563/563 [==============================] - 89s 157ms/step - loss: 0.7678 - accuracy: 0.7283 - val_loss: 0.6026 - val_accuracy: 0.8360\n",
            "Training with lr=0.01, optimizer=rmsprop, hidden_layers=5, neurons=50\n"
          ]
        },
        {
          "output_type": "stream",
          "name": "stderr",
          "text": [
            "All PyTorch model weights were used when initializing TFBertForSequenceClassification.\n",
            "\n",
            "Some weights or buffers of the TF 2.0 model TFBertForSequenceClassification were not initialized from the PyTorch model and are newly initialized: ['classifier.weight', 'classifier.bias']\n",
            "You should probably TRAIN this model on a down-stream task to be able to use it for predictions and inference.\n"
          ]
        },
        {
          "output_type": "stream",
          "name": "stdout",
          "text": [
            "Epoch 1/3\n",
            "563/563 [==============================] - 151s 182ms/step - loss: 0.8098 - accuracy: 0.7249 - val_loss: 0.6113 - val_accuracy: 0.8360\n",
            "Epoch 2/3\n",
            "563/563 [==============================] - 90s 159ms/step - loss: 0.7676 - accuracy: 0.7283 - val_loss: 0.6028 - val_accuracy: 0.8360\n",
            "Epoch 3/3\n",
            "563/563 [==============================] - 89s 159ms/step - loss: 0.7678 - accuracy: 0.7283 - val_loss: 0.5916 - val_accuracy: 0.8360\n",
            "Training with lr=0.01, optimizer=rmsprop, hidden_layers=5, neurons=500\n"
          ]
        },
        {
          "output_type": "stream",
          "name": "stderr",
          "text": [
            "All PyTorch model weights were used when initializing TFBertForSequenceClassification.\n",
            "\n",
            "Some weights or buffers of the TF 2.0 model TFBertForSequenceClassification were not initialized from the PyTorch model and are newly initialized: ['classifier.weight', 'classifier.bias']\n",
            "You should probably TRAIN this model on a down-stream task to be able to use it for predictions and inference.\n"
          ]
        },
        {
          "output_type": "stream",
          "name": "stdout",
          "text": [
            "Epoch 1/3\n",
            "563/563 [==============================] - 154s 183ms/step - loss: 9.8412 - accuracy: 0.7186 - val_loss: 0.6090 - val_accuracy: 0.8360\n",
            "Epoch 2/3\n",
            "563/563 [==============================] - 89s 159ms/step - loss: 0.7693 - accuracy: 0.7283 - val_loss: 0.5992 - val_accuracy: 0.8360\n",
            "Epoch 3/3\n",
            "563/563 [==============================] - 89s 159ms/step - loss: 0.7676 - accuracy: 0.7283 - val_loss: 0.5923 - val_accuracy: 0.8360\n",
            "Training with lr=0.01, optimizer=sgd, hidden_layers=1, neurons=50\n"
          ]
        },
        {
          "output_type": "stream",
          "name": "stderr",
          "text": [
            "All PyTorch model weights were used when initializing TFBertForSequenceClassification.\n",
            "\n",
            "Some weights or buffers of the TF 2.0 model TFBertForSequenceClassification were not initialized from the PyTorch model and are newly initialized: ['classifier.weight', 'classifier.bias']\n",
            "You should probably TRAIN this model on a down-stream task to be able to use it for predictions and inference.\n"
          ]
        },
        {
          "output_type": "stream",
          "name": "stdout",
          "text": [
            "Epoch 1/3\n",
            "563/563 [==============================] - 146s 186ms/step - loss: 0.4172 - accuracy: 0.8338 - val_loss: 0.3147 - val_accuracy: 0.8790\n",
            "Epoch 2/3\n",
            "563/563 [==============================] - 89s 157ms/step - loss: 0.3155 - accuracy: 0.8743 - val_loss: 0.3000 - val_accuracy: 0.8920\n",
            "Epoch 3/3\n",
            "563/563 [==============================] - 89s 157ms/step - loss: 0.2770 - accuracy: 0.8923 - val_loss: 0.3083 - val_accuracy: 0.8800\n",
            "Training with lr=0.01, optimizer=sgd, hidden_layers=1, neurons=500\n"
          ]
        },
        {
          "output_type": "stream",
          "name": "stderr",
          "text": [
            "All PyTorch model weights were used when initializing TFBertForSequenceClassification.\n",
            "\n",
            "Some weights or buffers of the TF 2.0 model TFBertForSequenceClassification were not initialized from the PyTorch model and are newly initialized: ['classifier.weight', 'classifier.bias']\n",
            "You should probably TRAIN this model on a down-stream task to be able to use it for predictions and inference.\n"
          ]
        },
        {
          "output_type": "stream",
          "name": "stdout",
          "text": [
            "Epoch 1/3\n",
            "563/563 [==============================] - 139s 173ms/step - loss: 0.4373 - accuracy: 0.8319 - val_loss: 0.2870 - val_accuracy: 0.8830\n",
            "Epoch 2/3\n",
            "563/563 [==============================] - 88s 157ms/step - loss: 0.3118 - accuracy: 0.8772 - val_loss: 0.2913 - val_accuracy: 0.8850\n",
            "Epoch 3/3\n",
            "563/563 [==============================] - 88s 157ms/step - loss: 0.2682 - accuracy: 0.8927 - val_loss: 1.0483 - val_accuracy: 0.6940\n",
            "Training with lr=0.01, optimizer=sgd, hidden_layers=3, neurons=50\n"
          ]
        },
        {
          "output_type": "stream",
          "name": "stderr",
          "text": [
            "All PyTorch model weights were used when initializing TFBertForSequenceClassification.\n",
            "\n",
            "Some weights or buffers of the TF 2.0 model TFBertForSequenceClassification were not initialized from the PyTorch model and are newly initialized: ['classifier.weight', 'classifier.bias']\n",
            "You should probably TRAIN this model on a down-stream task to be able to use it for predictions and inference.\n"
          ]
        },
        {
          "output_type": "stream",
          "name": "stdout",
          "text": [
            "Epoch 1/3\n",
            "563/563 [==============================] - 149s 182ms/step - loss: 0.5190 - accuracy: 0.8039 - val_loss: 0.3065 - val_accuracy: 0.8750\n",
            "Epoch 2/3\n",
            "563/563 [==============================] - 89s 158ms/step - loss: 0.3440 - accuracy: 0.8607 - val_loss: 0.3028 - val_accuracy: 0.8730\n",
            "Epoch 3/3\n",
            "563/563 [==============================] - 89s 157ms/step - loss: 0.2945 - accuracy: 0.8849 - val_loss: 0.2998 - val_accuracy: 0.8880\n",
            "Training with lr=0.01, optimizer=sgd, hidden_layers=3, neurons=500\n"
          ]
        },
        {
          "output_type": "stream",
          "name": "stderr",
          "text": [
            "All PyTorch model weights were used when initializing TFBertForSequenceClassification.\n",
            "\n",
            "Some weights or buffers of the TF 2.0 model TFBertForSequenceClassification were not initialized from the PyTorch model and are newly initialized: ['classifier.weight', 'classifier.bias']\n",
            "You should probably TRAIN this model on a down-stream task to be able to use it for predictions and inference.\n"
          ]
        },
        {
          "output_type": "stream",
          "name": "stdout",
          "text": [
            "Epoch 1/3\n",
            "563/563 [==============================] - 140s 178ms/step - loss: 0.4752 - accuracy: 0.8136 - val_loss: 0.3016 - val_accuracy: 0.8810\n",
            "Epoch 2/3\n",
            "563/563 [==============================] - 89s 158ms/step - loss: 0.3485 - accuracy: 0.8616 - val_loss: 0.3099 - val_accuracy: 0.8800\n",
            "Epoch 3/3\n",
            "563/563 [==============================] - 89s 158ms/step - loss: 0.2908 - accuracy: 0.8860 - val_loss: 0.3016 - val_accuracy: 0.8740\n",
            "Training with lr=0.01, optimizer=sgd, hidden_layers=5, neurons=50\n"
          ]
        },
        {
          "output_type": "stream",
          "name": "stderr",
          "text": [
            "All PyTorch model weights were used when initializing TFBertForSequenceClassification.\n",
            "\n",
            "Some weights or buffers of the TF 2.0 model TFBertForSequenceClassification were not initialized from the PyTorch model and are newly initialized: ['classifier.weight', 'classifier.bias']\n",
            "You should probably TRAIN this model on a down-stream task to be able to use it for predictions and inference.\n"
          ]
        },
        {
          "output_type": "stream",
          "name": "stdout",
          "text": [
            "Epoch 1/3\n",
            "563/563 [==============================] - 147s 185ms/step - loss: 0.4648 - accuracy: 0.8217 - val_loss: 0.6841 - val_accuracy: 0.7380\n",
            "Epoch 2/3\n",
            "563/563 [==============================] - 89s 158ms/step - loss: 0.3487 - accuracy: 0.8607 - val_loss: 0.3365 - val_accuracy: 0.8720\n",
            "Epoch 3/3\n",
            "563/563 [==============================] - 89s 158ms/step - loss: 0.2959 - accuracy: 0.8818 - val_loss: 0.3322 - val_accuracy: 0.8630\n",
            "Training with lr=0.01, optimizer=sgd, hidden_layers=5, neurons=500\n"
          ]
        },
        {
          "output_type": "stream",
          "name": "stderr",
          "text": [
            "All PyTorch model weights were used when initializing TFBertForSequenceClassification.\n",
            "\n",
            "Some weights or buffers of the TF 2.0 model TFBertForSequenceClassification were not initialized from the PyTorch model and are newly initialized: ['classifier.weight', 'classifier.bias']\n",
            "You should probably TRAIN this model on a down-stream task to be able to use it for predictions and inference.\n"
          ]
        },
        {
          "output_type": "stream",
          "name": "stdout",
          "text": [
            "Epoch 1/3\n",
            "563/563 [==============================] - 142s 174ms/step - loss: 0.4518 - accuracy: 0.8236 - val_loss: 0.3064 - val_accuracy: 0.8780\n",
            "Epoch 2/3\n",
            "563/563 [==============================] - 89s 158ms/step - loss: 0.4463 - accuracy: 0.8339 - val_loss: 0.6245 - val_accuracy: 0.8360\n",
            "Epoch 3/3\n",
            "563/563 [==============================] - 89s 158ms/step - loss: 0.7716 - accuracy: 0.7283 - val_loss: 0.5807 - val_accuracy: 0.8360\n",
            "Best configuration: (0.001, 'sgd', 1, 50, 0.8920000195503235)\n"
          ]
        }
      ]
    },
    {
      "cell_type": "code",
      "source": [
        "# Build the model with the best configuration\n",
        "best_lr = 0.001\n",
        "best_optimizer = 'sgd'\n",
        "best_hidden_layers = 1\n",
        "best_neurons = 50\n",
        "\n",
        "model = build_model(best_lr, best_optimizer, best_hidden_layers, best_neurons)\n",
        "\n",
        "# Train the model\n",
        "history = model.fit(\n",
        "    {'input_ids': X_train_ids, 'attention_mask': X_train_masks},\n",
        "    y_train,\n",
        "    validation_split=0.1,  # Using part of the training data as validation\n",
        "    batch_size=16,\n",
        "    epochs=10,  # More epochs for better training\n",
        "    verbose=1\n",
        ")\n"
      ],
      "metadata": {
        "colab": {
          "base_uri": "https://localhost:8080/"
        },
        "id": "s7xIzSPT7Pdh",
        "outputId": "db272f2c-fecc-42a3-e7c1-6f9ac92af3ab"
      },
      "execution_count": 29,
      "outputs": [
        {
          "output_type": "stream",
          "name": "stderr",
          "text": [
            "All PyTorch model weights were used when initializing TFBertForSequenceClassification.\n",
            "\n",
            "Some weights or buffers of the TF 2.0 model TFBertForSequenceClassification were not initialized from the PyTorch model and are newly initialized: ['classifier.weight', 'classifier.bias']\n",
            "You should probably TRAIN this model on a down-stream task to be able to use it for predictions and inference.\n"
          ]
        },
        {
          "output_type": "stream",
          "name": "stdout",
          "text": [
            "Epoch 1/10\n",
            "563/563 [==============================] - 140s 173ms/step - loss: 0.5135 - accuracy: 0.8038 - val_loss: 0.3808 - val_accuracy: 0.8330\n",
            "Epoch 2/10\n",
            "563/563 [==============================] - 88s 157ms/step - loss: 0.3656 - accuracy: 0.8560 - val_loss: 0.3173 - val_accuracy: 0.8740\n",
            "Epoch 3/10\n",
            "563/563 [==============================] - 88s 156ms/step - loss: 0.3320 - accuracy: 0.8684 - val_loss: 0.3155 - val_accuracy: 0.8730\n",
            "Epoch 4/10\n",
            "563/563 [==============================] - 88s 157ms/step - loss: 0.3123 - accuracy: 0.8751 - val_loss: 0.3012 - val_accuracy: 0.8800\n",
            "Epoch 5/10\n",
            "563/563 [==============================] - 88s 157ms/step - loss: 0.3010 - accuracy: 0.8810 - val_loss: 0.3002 - val_accuracy: 0.8770\n",
            "Epoch 6/10\n",
            "563/563 [==============================] - 88s 157ms/step - loss: 0.2812 - accuracy: 0.8878 - val_loss: 0.3635 - val_accuracy: 0.8500\n",
            "Epoch 7/10\n",
            "563/563 [==============================] - 88s 157ms/step - loss: 0.2741 - accuracy: 0.8926 - val_loss: 0.3189 - val_accuracy: 0.8740\n",
            "Epoch 8/10\n",
            "563/563 [==============================] - 88s 157ms/step - loss: 0.2598 - accuracy: 0.8971 - val_loss: 0.3081 - val_accuracy: 0.8940\n",
            "Epoch 9/10\n",
            "563/563 [==============================] - 88s 157ms/step - loss: 0.2472 - accuracy: 0.9056 - val_loss: 0.2934 - val_accuracy: 0.8890\n",
            "Epoch 10/10\n",
            "563/563 [==============================] - 88s 156ms/step - loss: 0.2336 - accuracy: 0.9116 - val_loss: 0.3037 - val_accuracy: 0.8900\n"
          ]
        }
      ]
    },
    {
      "cell_type": "code",
      "source": [
        "import matplotlib.pyplot as plt\n",
        "\n",
        "# Function to plot loss and accuracy\n",
        "def plot_loss_accuracy(history):\n",
        "    epochs = range(1, len(history.history['accuracy']) + 1)\n",
        "\n",
        "    plt.figure(figsize=(12, 5))\n",
        "\n",
        "    plt.subplot(1, 2, 1)\n",
        "    plt.plot(epochs, history.history['loss'], 'bo-', label='Training loss')\n",
        "    plt.plot(epochs, history.history['val_loss'], 'ro-', label='Validation loss')\n",
        "    plt.title('Training and Validation Loss')\n",
        "    plt.xlabel('Epoch')\n",
        "    plt.ylabel('Loss')\n",
        "    plt.legend()\n",
        "\n",
        "    plt.subplot(1, 2, 2)\n",
        "    plt.plot(epochs, history.history['accuracy'], 'bo-', label='Training accuracy')\n",
        "    plt.plot(epochs, history.history['val_accuracy'], 'ro-', label='Validation accuracy')\n",
        "    plt.title('Training and Validation Accuracy')\n",
        "    plt.xlabel('Epoch')\n",
        "    plt.ylabel('Accuracy')\n",
        "    plt.legend()\n",
        "\n",
        "    plt.tight_layout()\n",
        "    plt.show()\n",
        "\n",
        "# Plotting the graphs for the trained model\n",
        "plot_loss_accuracy(history)\n"
      ],
      "metadata": {
        "colab": {
          "base_uri": "https://localhost:8080/",
          "height": 491
        },
        "id": "I6qJ0Mfv-cUq",
        "outputId": "15395bf4-1b31-419d-ea64-036c74b8e5b0"
      },
      "execution_count": 30,
      "outputs": [
        {
          "output_type": "display_data",
          "data": {
            "text/plain": [
              "<Figure size 1200x500 with 2 Axes>"
            ],
            "image/png": "[encoded data removed]"
          },
          "metadata": {}
        }
      ]
    },
    {
      "cell_type": "code",
      "source": [
        "def predict_sentiment(sentence, model, tokenizer, label_encoder):\n",
        "    # Preprocess the sentence\n",
        "    encoded = tokenizer.encode_plus(\n",
        "        sentence,\n",
        "        add_special_tokens=True,\n",
        "        max_length=128,  # Ensure this matches the training setup\n",
        "        truncation=True,\n",
        "        padding='max_length',\n",
        "        return_attention_mask=True,\n",
        "        return_tensors='tf'\n",
        "    )\n",
        "\n",
        "    # Extract input_ids and attention_mask from encoded dictionary\n",
        "    input_ids = encoded['input_ids']\n",
        "    attention_mask = encoded['attention_mask']\n",
        "\n",
        "    # Make a prediction\n",
        "    logits = model.predict({'input_ids': input_ids, 'attention_mask': attention_mask})[0]\n",
        "\n",
        "    # Convert logits to softmax to derive probabilities\n",
        "    probabilities = tf.nn.softmax(logits, axis=-1)\n",
        "\n",
        "    # Get the class with the highest probability\n",
        "    predicted_class_id = tf.argmax(probabilities, axis=-1)\n",
        "\n",
        "    # Decode class ID to label\n",
        "    predicted_class = label_encoder.inverse_transform([predicted_class_id.numpy()])[0]\n",
        "\n",
        "    return predicted_class, probabilities.numpy()\n",
        "\n",
        "def display_class_probabilities(probabilities, label_encoder):\n",
        "    # Display the class probabilities as percentages\n",
        "    print(\"Class probabilities:\")\n",
        "    for idx, prob in enumerate(probabilities.flatten(), 1):\n",
        "        label = label_encoder.inverse_transform([idx - 1])[0]\n",
        "        print(f\"{label}: {prob * 100:.2f}%\")\n"
      ],
      "metadata": {
        "id": "mnqWR8iGM3nG"
      },
      "execution_count": 80,
      "outputs": []
    },
    {
      "cell_type": "code",
      "source": [
        "# Example usage\n",
        "test_sentence = \"The airline is the best I have ever seen.\"\n",
        "\n",
        "# Predict sentiment and get probabilities\n",
        "predicted_sentiment, probabilities = predict_sentiment(test_sentence, model, tokenizer, label_encoder)\n",
        "print(f\"Predicted sentiment: {predicted_sentiment}\")\n",
        "display_class_probabilities(probabilities, label_encoder)\n"
      ],
      "metadata": {
        "colab": {
          "base_uri": "https://localhost:8080/"
        },
        "id": "0Lxj-4tbM5UU",
        "outputId": "037b0c7e-0cec-4c23-be90-61ec3e1b9886"
      },
      "execution_count": 83,
      "outputs": [
        {
          "output_type": "stream",
          "name": "stdout",
          "text": [
            "1/1 [==============================] - 0s 46ms/step\n",
            "Predicted sentiment: positive\n",
            "Class probabilities:\n",
            "negative: 21.23%\n",
            "neutral: 21.26%\n",
            "positive: 57.51%\n"
          ]
        }
      ]
    }
  ]
}